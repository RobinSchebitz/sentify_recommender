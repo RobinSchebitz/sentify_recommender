{
 "cells": [
  {
   "cell_type": "code",
   "execution_count": 1,
   "metadata": {},
   "outputs": [],
   "source": [
    "# Connecting with Spotify API\n",
    "import pandas as pd\n",
    "import spotipy\n",
    "from spotipy.oauth2 import SpotifyClientCredentials\n",
    "\n",
    "# Initialize spotipy with Spotify API credentials\n",
    "client_id = '45369f91d6304e93bfa1420e2b25b356'  # Replace with your client ID\n",
    "client_secret = '135fd962199c4239a114cde6d569efdc'  # Replace with your client secret\n",
    "client_credentials_manager = SpotifyClientCredentials(client_id=client_id, client_secret=client_secret)\n",
    "sp = spotipy.Spotify(client_credentials_manager=client_credentials_manager)"
   ]
  },
  {
   "cell_type": "code",
   "execution_count": 2,
   "metadata": {},
   "outputs": [
    {
     "data": {
      "text/plain": [
       "{'external_urls': {'spotify': 'https://open.spotify.com/artist/5vCOdeiQt9LyzdI87kt5Sh'},\n",
       " 'followers': {'href': None, 'total': 410235},\n",
       " 'genres': ['swedish pop'],\n",
       " 'href': 'https://api.spotify.com/v1/artists/5vCOdeiQt9LyzdI87kt5Sh',\n",
       " 'id': '5vCOdeiQt9LyzdI87kt5Sh',\n",
       " 'images': [{'height': 640,\n",
       "   'url': 'https://i.scdn.co/image/ab6761610000e5eb8fd7f5e527461ff5a3876d7b',\n",
       "   'width': 640},\n",
       "  {'height': 320,\n",
       "   'url': 'https://i.scdn.co/image/ab676161000051748fd7f5e527461ff5a3876d7b',\n",
       "   'width': 320},\n",
       "  {'height': 160,\n",
       "   'url': 'https://i.scdn.co/image/ab6761610000f1788fd7f5e527461ff5a3876d7b',\n",
       "   'width': 160}],\n",
       " 'name': 'AronChupa',\n",
       " 'popularity': 56,\n",
       " 'type': 'artist',\n",
       " 'uri': 'spotify:artist:5vCOdeiQt9LyzdI87kt5Sh'}"
      ]
     },
     "execution_count": 2,
     "metadata": {},
     "output_type": "execute_result"
    }
   ],
   "source": [
    "# Artist Call\n",
    "sp.artist('spotify:artist:5vCOdeiQt9LyzdI87kt5Sh')"
   ]
  },
  {
   "cell_type": "code",
   "execution_count": 4,
   "metadata": {},
   "outputs": [
    {
     "name": "stdout",
     "output_type": "stream",
     "text": [
      "{'album': {'album_type': 'album', 'artists': [{'external_urls': {'spotify': 'https://open.spotify.com/artist/7IlRNXHjoOCgEAWN5qYksg'}, 'href': 'https://api.spotify.com/v1/artists/7IlRNXHjoOCgEAWN5qYksg', 'id': '7IlRNXHjoOCgEAWN5qYksg', 'name': 'Aya Nakamura', 'type': 'artist', 'uri': 'spotify:artist:7IlRNXHjoOCgEAWN5qYksg'}], 'available_markets': ['AT', 'CH', 'DE', 'LI'], 'external_urls': {'spotify': 'https://open.spotify.com/album/1co4qjh6yQGXUnVM52yEYb'}, 'href': 'https://api.spotify.com/v1/albums/1co4qjh6yQGXUnVM52yEYb', 'id': '1co4qjh6yQGXUnVM52yEYb', 'images': [{'height': 640, 'url': 'https://i.scdn.co/image/ab67616d0000b2733aceae25194df330b2f4d91a', 'width': 640}, {'height': 300, 'url': 'https://i.scdn.co/image/ab67616d00001e023aceae25194df330b2f4d91a', 'width': 300}, {'height': 64, 'url': 'https://i.scdn.co/image/ab67616d000048513aceae25194df330b2f4d91a', 'width': 64}], 'name': 'NAKAMURA', 'release_date': '2018-11-02', 'release_date_precision': 'day', 'total_tracks': 14, 'type': 'album', 'uri': 'spotify:album:1co4qjh6yQGXUnVM52yEYb'}, 'artists': [{'external_urls': {'spotify': 'https://open.spotify.com/artist/7IlRNXHjoOCgEAWN5qYksg'}, 'href': 'https://api.spotify.com/v1/artists/7IlRNXHjoOCgEAWN5qYksg', 'id': '7IlRNXHjoOCgEAWN5qYksg', 'name': 'Aya Nakamura', 'type': 'artist', 'uri': 'spotify:artist:7IlRNXHjoOCgEAWN5qYksg'}], 'available_markets': ['AT', 'CH', 'DE', 'LI'], 'disc_number': 1, 'duration_ms': 171720, 'explicit': False, 'external_ids': {'isrc': 'FRZ041800793'}, 'external_urls': {'spotify': 'https://open.spotify.com/track/65PsPkMG2QiFM8N5qnuv4B'}, 'href': 'https://api.spotify.com/v1/tracks/65PsPkMG2QiFM8N5qnuv4B', 'id': '65PsPkMG2QiFM8N5qnuv4B', 'is_local': False, 'name': 'Copines', 'popularity': 55, 'preview_url': 'https://p.scdn.co/mp3-preview/65e4e90b1686702ef944ca8e0038ec126d92166d?cid=45369f91d6304e93bfa1420e2b25b356', 'track_number': 4, 'type': 'track', 'uri': 'spotify:track:65PsPkMG2QiFM8N5qnuv4B'}\n"
     ]
    }
   ],
   "source": [
    "track = sp.track('spotify:track:65PsPkMG2QiFM8N5qnuv4B')"
   ]
  },
  {
   "cell_type": "code",
   "execution_count": 13,
   "metadata": {},
   "outputs": [
    {
     "data": {
      "text/plain": [
       "'Aya Nakamura'"
      ]
     },
     "execution_count": 13,
     "metadata": {},
     "output_type": "execute_result"
    }
   ],
   "source": [
    "# API Call to get an artists name\n",
    "track['artists'][0]['name']"
   ]
  },
  {
   "cell_type": "code",
   "execution_count": 15,
   "metadata": {},
   "outputs": [
    {
     "data": {
      "text/plain": [
       "'Copines'"
      ]
     },
     "execution_count": 15,
     "metadata": {},
     "output_type": "execute_result"
    }
   ],
   "source": [
    "#API Call to get a track name\n",
    "track['name']"
   ]
  },
  {
   "cell_type": "code",
   "execution_count": 24,
   "metadata": {},
   "outputs": [
    {
     "name": "stdout",
     "output_type": "stream",
     "text": [
      "  playlist_name  playlist_pid  playlist_num_tracks  track_pos artist_name   \n",
      "0         Party       1000000                   75          0   AronChupa  \\\n",
      "1         Party       1000000                   75          1   AronChupa   \n",
      "2         Party       1000000                   75          2       Lorde   \n",
      "3         Party       1000000                   75          3       Lorde   \n",
      "4         Party       1000000                   75          4       Lorde   \n",
      "\n",
      "                              track_uri   \n",
      "0  spotify:track:66U0ASk1VHZsqIkpMjKX3B  \\\n",
      "1  spotify:track:5MhsZlmKJG6X5kTHkdwC4B   \n",
      "2  spotify:track:0GZoB8h0kqXn7XFm4Sj06k   \n",
      "3  spotify:track:35kahykNu00FPysz3C2euR   \n",
      "4  spotify:track:3G6hD9B2ZHOsgf4WfNu7X1   \n",
      "\n",
      "                              artist_uri   \n",
      "0  spotify:artist:5vCOdeiQt9LyzdI87kt5Sh  \\\n",
      "1  spotify:artist:5vCOdeiQt9LyzdI87kt5Sh   \n",
      "2  spotify:artist:163tK9Wjr9P9DmM0AVK7lm   \n",
      "3  spotify:artist:163tK9Wjr9P9DmM0AVK7lm   \n",
      "4  spotify:artist:163tK9Wjr9P9DmM0AVK7lm   \n",
      "\n",
      "                                          track_name   \n",
      "0                                       Little Swing  \\\n",
      "1                                   I'm an Albatraoz   \n",
      "2  Yellow Flicker Beat - From The Hunger Games: M...   \n",
      "3                                  White Teeth Teens   \n",
      "4                                               Team   \n",
      "\n",
      "                              album_uri  duration_ms           album_name  \n",
      "0  spotify:album:4S5MLjwRSi0NJ5nikflYnZ       163809         Little Swing  \n",
      "1  spotify:album:1qHVYbxQ6IS8YRviorKDJI       166848     I'm an Albatraoz  \n",
      "2  spotify:album:4UEPxQx0cTcYNsE0n32MHV       232506  Yellow Flicker Beat  \n",
      "3  spotify:album:0rmhjUgoVa17LZuS8xWQ3v       216600         Pure Heroine  \n",
      "4  spotify:album:0rmhjUgoVa17LZuS8xWQ3v       193058         Pure Heroine  \n"
     ]
    }
   ],
   "source": [
    "import pandas as pd\n",
    "import json\n",
    "\n",
    "# Load JSON data from file\n",
    "with open('/Users/robin/capstone/sentify_recommender/data/challenge_set.json', 'r') as file: # Replace with local dataset path\n",
    "    data = json.load(file)\n",
    "\n",
    "# Initialize an empty list to collect all track data\n",
    "all_tracks = []\n",
    "\n",
    "# Loop through each playlist in the dataset\n",
    "for playlist in data['playlists']:\n",
    "    for track in playlist['tracks']:\n",
    "        # Add playlist-level information to each track record\n",
    "        track_info = {\n",
    "            'playlist_name': playlist.get('name', 'Unknown'),\n",
    "            'playlist_pid': playlist['pid'],\n",
    "            'playlist_num_tracks': playlist['num_tracks'],\n",
    "            'track_pos': track['pos'],\n",
    "            'artist_name': track['artist_name'],\n",
    "            'track_uri': track['track_uri'],\n",
    "            'artist_uri': track['artist_uri'],\n",
    "            'track_name': track['track_name'],\n",
    "            'album_uri': track['album_uri'],\n",
    "            'duration_ms': track['duration_ms'],\n",
    "            'album_name': track['album_name']\n",
    "        }\n",
    "        all_tracks.append(track_info)\n",
    "\n",
    "# Convert the list of track dictionaries to a DataFrame\n",
    "df_spotify = pd.DataFrame(all_tracks)\n",
    "\n",
    "# Display the first few rows of the DataFrame to verify\n",
    "print(df_spotify.head())"
   ]
  },
  {
   "cell_type": "code",
   "execution_count": 26,
   "metadata": {},
   "outputs": [
    {
     "data": {
      "text/plain": [
       "0         spotify:track:66U0ASk1VHZsqIkpMjKX3B\n",
       "1         spotify:track:5MhsZlmKJG6X5kTHkdwC4B\n",
       "2         spotify:track:0GZoB8h0kqXn7XFm4Sj06k\n",
       "3         spotify:track:35kahykNu00FPysz3C2euR\n",
       "4         spotify:track:3G6hD9B2ZHOsgf4WfNu7X1\n",
       "                          ...                 \n",
       "280995    spotify:track:38griAVM808crjbFp9gcPD\n",
       "280996    spotify:track:1JClFT74TYSXlzpagbmj0S\n",
       "280997    spotify:track:4InLm5a9Qtkru6YxEjM4Qc\n",
       "280998    spotify:track:4hdog9vyyqG9pcppG2Izek\n",
       "280999    spotify:track:0NiXXAI876aGImAd6rTj8w\n",
       "Name: track_uri, Length: 281000, dtype: object"
      ]
     },
     "execution_count": 26,
     "metadata": {},
     "output_type": "execute_result"
    }
   ],
   "source": [
    "df_spotify.track_uri"
   ]
  },
  {
   "cell_type": "code",
   "execution_count": 31,
   "metadata": {},
   "outputs": [],
   "source": [
    "# Creating new dataset for getting lyrics of unique songs\n",
    "df_lyrics = df_spotify.drop_duplicates(subset=['track_uri']).drop(['playlist_name', 'playlist_pid', 'playlist_num_tracks', 'track_pos',\n",
    "       'artist_uri', 'album_uri', 'duration_ms', 'album_name', 'artist_name', 'track_name'], axis=1).reset_index(drop=True)"
   ]
  },
  {
   "cell_type": "code",
   "execution_count": 33,
   "metadata": {},
   "outputs": [
    {
     "data": {
      "text/html": [
       "<div>\n",
       "<style scoped>\n",
       "    .dataframe tbody tr th:only-of-type {\n",
       "        vertical-align: middle;\n",
       "    }\n",
       "\n",
       "    .dataframe tbody tr th {\n",
       "        vertical-align: top;\n",
       "    }\n",
       "\n",
       "    .dataframe thead th {\n",
       "        text-align: right;\n",
       "    }\n",
       "</style>\n",
       "<table border=\"1\" class=\"dataframe\">\n",
       "  <thead>\n",
       "    <tr style=\"text-align: right;\">\n",
       "      <th></th>\n",
       "      <th>track_uri</th>\n",
       "    </tr>\n",
       "  </thead>\n",
       "  <tbody>\n",
       "    <tr>\n",
       "      <th>0</th>\n",
       "      <td>spotify:track:66U0ASk1VHZsqIkpMjKX3B</td>\n",
       "    </tr>\n",
       "    <tr>\n",
       "      <th>1</th>\n",
       "      <td>spotify:track:5MhsZlmKJG6X5kTHkdwC4B</td>\n",
       "    </tr>\n",
       "    <tr>\n",
       "      <th>2</th>\n",
       "      <td>spotify:track:0GZoB8h0kqXn7XFm4Sj06k</td>\n",
       "    </tr>\n",
       "    <tr>\n",
       "      <th>3</th>\n",
       "      <td>spotify:track:35kahykNu00FPysz3C2euR</td>\n",
       "    </tr>\n",
       "    <tr>\n",
       "      <th>4</th>\n",
       "      <td>spotify:track:3G6hD9B2ZHOsgf4WfNu7X1</td>\n",
       "    </tr>\n",
       "    <tr>\n",
       "      <th>...</th>\n",
       "      <td>...</td>\n",
       "    </tr>\n",
       "    <tr>\n",
       "      <th>66238</th>\n",
       "      <td>spotify:track:2PBTwMH2mzfLigdMyPzOcp</td>\n",
       "    </tr>\n",
       "    <tr>\n",
       "      <th>66239</th>\n",
       "      <td>spotify:track:5JugcqxQihVYdvCSPzmP1H</td>\n",
       "    </tr>\n",
       "    <tr>\n",
       "      <th>66240</th>\n",
       "      <td>spotify:track:1cKRBp7hrBVD4eP3W9x2AI</td>\n",
       "    </tr>\n",
       "    <tr>\n",
       "      <th>66241</th>\n",
       "      <td>spotify:track:38griAVM808crjbFp9gcPD</td>\n",
       "    </tr>\n",
       "    <tr>\n",
       "      <th>66242</th>\n",
       "      <td>spotify:track:4InLm5a9Qtkru6YxEjM4Qc</td>\n",
       "    </tr>\n",
       "  </tbody>\n",
       "</table>\n",
       "<p>66243 rows × 1 columns</p>\n",
       "</div>"
      ],
      "text/plain": [
       "                                  track_uri\n",
       "0      spotify:track:66U0ASk1VHZsqIkpMjKX3B\n",
       "1      spotify:track:5MhsZlmKJG6X5kTHkdwC4B\n",
       "2      spotify:track:0GZoB8h0kqXn7XFm4Sj06k\n",
       "3      spotify:track:35kahykNu00FPysz3C2euR\n",
       "4      spotify:track:3G6hD9B2ZHOsgf4WfNu7X1\n",
       "...                                     ...\n",
       "66238  spotify:track:2PBTwMH2mzfLigdMyPzOcp\n",
       "66239  spotify:track:5JugcqxQihVYdvCSPzmP1H\n",
       "66240  spotify:track:1cKRBp7hrBVD4eP3W9x2AI\n",
       "66241  spotify:track:38griAVM808crjbFp9gcPD\n",
       "66242  spotify:track:4InLm5a9Qtkru6YxEjM4Qc\n",
       "\n",
       "[66243 rows x 1 columns]"
      ]
     },
     "execution_count": 33,
     "metadata": {},
     "output_type": "execute_result"
    }
   ],
   "source": [
    "df_lyrics\n"
   ]
  },
  {
   "cell_type": "markdown",
   "metadata": {},
   "source": [
    "### Create Sp.track for every URI in df_lyrics"
   ]
  },
  {
   "cell_type": "code",
   "execution_count": 39,
   "metadata": {},
   "outputs": [
    {
     "name": "stdout",
     "output_type": "stream",
     "text": [
      "0\n",
      "1\n",
      "2\n",
      "3\n",
      "4\n",
      "5\n",
      "6\n",
      "7\n",
      "8\n",
      "9\n",
      "Success\n"
     ]
    }
   ],
   "source": [
    "results = df_lyrics['track_uri'].to_list()\n",
    "df_lyrics_updated = pd.DataFrame()\n",
    "i=0\n",
    "\n",
    "for uri in results[:10]:\n",
    "    track = sp.track(uri)\n",
    "    df_lyrics_updated.loc[i, 'track_uri'] = uri\n",
    "    df_lyrics_updated.loc[i, 'artist_name'] = track['artists'][0]['name']\n",
    "    df_lyrics_updated.loc[i, 'track_name'] = track['name']\n",
    "    print(i)\n",
    "    i += 1\n",
    "print('Success')"
   ]
  },
  {
   "cell_type": "code",
   "execution_count": 43,
   "metadata": {},
   "outputs": [
    {
     "data": {
      "text/html": [
       "<div>\n",
       "<style scoped>\n",
       "    .dataframe tbody tr th:only-of-type {\n",
       "        vertical-align: middle;\n",
       "    }\n",
       "\n",
       "    .dataframe tbody tr th {\n",
       "        vertical-align: top;\n",
       "    }\n",
       "\n",
       "    .dataframe thead th {\n",
       "        text-align: right;\n",
       "    }\n",
       "</style>\n",
       "<table border=\"1\" class=\"dataframe\">\n",
       "  <thead>\n",
       "    <tr style=\"text-align: right;\">\n",
       "      <th></th>\n",
       "      <th>track_uri</th>\n",
       "      <th>artist_name</th>\n",
       "      <th>track_name</th>\n",
       "    </tr>\n",
       "  </thead>\n",
       "  <tbody>\n",
       "    <tr>\n",
       "      <th>0</th>\n",
       "      <td>spotify:track:66U0ASk1VHZsqIkpMjKX3B</td>\n",
       "      <td>AronChupa</td>\n",
       "      <td>Little Swing</td>\n",
       "    </tr>\n",
       "    <tr>\n",
       "      <th>1</th>\n",
       "      <td>spotify:track:5MhsZlmKJG6X5kTHkdwC4B</td>\n",
       "      <td>AronChupa</td>\n",
       "      <td>I'm an Albatraoz</td>\n",
       "    </tr>\n",
       "    <tr>\n",
       "      <th>2</th>\n",
       "      <td>spotify:track:0GZoB8h0kqXn7XFm4Sj06k</td>\n",
       "      <td>Lorde</td>\n",
       "      <td>Yellow Flicker Beat - From The Hunger Games: M...</td>\n",
       "    </tr>\n",
       "    <tr>\n",
       "      <th>3</th>\n",
       "      <td>spotify:track:35kahykNu00FPysz3C2euR</td>\n",
       "      <td>Lorde</td>\n",
       "      <td>White Teeth Teens</td>\n",
       "    </tr>\n",
       "    <tr>\n",
       "      <th>4</th>\n",
       "      <td>spotify:track:3G6hD9B2ZHOsgf4WfNu7X1</td>\n",
       "      <td>Lorde</td>\n",
       "      <td>Team</td>\n",
       "    </tr>\n",
       "  </tbody>\n",
       "</table>\n",
       "</div>"
      ],
      "text/plain": [
       "                              track_uri artist_name   \n",
       "0  spotify:track:66U0ASk1VHZsqIkpMjKX3B   AronChupa  \\\n",
       "1  spotify:track:5MhsZlmKJG6X5kTHkdwC4B   AronChupa   \n",
       "2  spotify:track:0GZoB8h0kqXn7XFm4Sj06k       Lorde   \n",
       "3  spotify:track:35kahykNu00FPysz3C2euR       Lorde   \n",
       "4  spotify:track:3G6hD9B2ZHOsgf4WfNu7X1       Lorde   \n",
       "\n",
       "                                          track_name  \n",
       "0                                       Little Swing  \n",
       "1                                   I'm an Albatraoz  \n",
       "2  Yellow Flicker Beat - From The Hunger Games: M...  \n",
       "3                                  White Teeth Teens  \n",
       "4                                               Team  "
      ]
     },
     "execution_count": 43,
     "metadata": {},
     "output_type": "execute_result"
    }
   ],
   "source": [
    "df_lyrics_updated.head()"
   ]
  },
  {
   "cell_type": "markdown",
   "metadata": {},
   "source": [
    "### Store json from sp.track in variable"
   ]
  },
  {
   "cell_type": "markdown",
   "metadata": {},
   "source": [
    "### Search that json for track['artists'][0]['name'] and store it in column artist_name"
   ]
  },
  {
   "cell_type": "markdown",
   "metadata": {},
   "source": [
    "### The same for the track name track['name'] and store it in column track_name"
   ]
  },
  {
   "cell_type": "markdown",
   "metadata": {},
   "source": [
    "### Print after every iteration of the API call"
   ]
  }
 ],
 "metadata": {
  "kernelspec": {
   "display_name": ".venv",
   "language": "python",
   "name": "python3"
  },
  "language_info": {
   "codemirror_mode": {
    "name": "ipython",
    "version": 3
   },
   "file_extension": ".py",
   "mimetype": "text/x-python",
   "name": "python",
   "nbconvert_exporter": "python",
   "pygments_lexer": "ipython3",
   "version": "3.11.3"
  }
 },
 "nbformat": 4,
 "nbformat_minor": 2
}
