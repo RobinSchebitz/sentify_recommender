{
 "cells": [
  {
   "cell_type": "markdown",
   "metadata": {},
   "source": [
    "### Import Libraries"
   ]
  },
  {
   "cell_type": "code",
   "execution_count": 3,
   "metadata": {},
   "outputs": [],
   "source": [
    "import pandas as pd\n",
    "import json\n",
    "import spotipy\n",
    "from spotipy.oauth2 import SpotifyClientCredentials\n",
    "import time"
   ]
  },
  {
   "cell_type": "code",
   "execution_count": 2,
   "metadata": {},
   "outputs": [
    {
     "data": {
      "text/plain": [
       "\"\\n# Connecting with Spotify API\\n\\n# Initialize spotipy with Spotify API credentials\\nclient_id = '45369f91d6304e93bfa1420e2b25b356'  # Replace with your client ID\\nclient_secret = '135fd962199c4239a114cde6d569efdc'  # Replace with your client secret\\nclient_credentials_manager = SpotifyClientCredentials(client_id=client_id, client_secret=client_secret)\\nsp = spotipy.Spotify(client_credentials_manager=client_credentials_manager)\\n\\nclient_id = '10958695528741f4b8b04707c34f7b56'  # Replace with your client ID\\nclient_secret = '69783e9b25af4c6892105fa038942fcd'  # Replace with your client secret\\nclient_credentials_manager2 = SpotifyClientCredentials(client_id=client_id, client_secret=client_secret)\\nsp2 = spotipy.Spotify(client_credentials_manager=client_credentials_manager2)\\n\\nclient_id = '97eafb78b72340de8c02e32608b09ed0'  # Replace with your client ID\\nclient_secret = '07654f9dbfe94dd5af413acec14f00ca'  # Replace with your client secret\\nclient_credentials_manager3 = SpotifyClientCredentials(client_id=client_id, client_secret=client_secret)\\nsp3 = spotipy.Spotify(client_credentials_manager=client_credentials_manager3)\\n\\nclient_id = '97eafb78b72340de8c02e32608b09ed0'  # Replace with your client ID\\nclient_secret = '07654f9dbfe94dd5af413acec14f00ca'  # Replace with your client secret\\nclient_credentials_manager4 = SpotifyClientCredentials(client_id=client_id, client_secret=client_secret)\\nsp4 = spotipy.Spotify(client_credentials_manager=client_credentials_manager4)\\n\""
      ]
     },
     "execution_count": 2,
     "metadata": {},
     "output_type": "execute_result"
    }
   ],
   "source": [
    "\"\"\"\n",
    "# Connecting with Spotify API\n",
    "\n",
    "# Initialize spotipy with Spotify API credentials\n",
    "client_id = '45369f91d6304e93bfa1420e2b25b356'  # Replace with your client ID\n",
    "client_secret = '135fd962199c4239a114cde6d569efdc'  # Replace with your client secret\n",
    "client_credentials_manager = SpotifyClientCredentials(client_id=client_id, client_secret=client_secret)\n",
    "sp = spotipy.Spotify(client_credentials_manager=client_credentials_manager)\n",
    "\n",
    "client_id = '10958695528741f4b8b04707c34f7b56'  # Replace with your client ID\n",
    "client_secret = '69783e9b25af4c6892105fa038942fcd'  # Replace with your client secret\n",
    "client_credentials_manager2 = SpotifyClientCredentials(client_id=client_id, client_secret=client_secret)\n",
    "sp2 = spotipy.Spotify(client_credentials_manager=client_credentials_manager2)\n",
    "\n",
    "client_id = '97eafb78b72340de8c02e32608b09ed0'  # Replace with your client ID\n",
    "client_secret = '07654f9dbfe94dd5af413acec14f00ca'  # Replace with your client secret\n",
    "client_credentials_manager3 = SpotifyClientCredentials(client_id=client_id, client_secret=client_secret)\n",
    "sp3 = spotipy.Spotify(client_credentials_manager=client_credentials_manager3)\n",
    "\n",
    "client_id = '97eafb78b72340de8c02e32608b09ed0'  # Replace with your client ID\n",
    "client_secret = '07654f9dbfe94dd5af413acec14f00ca'  # Replace with your client secret\n",
    "client_credentials_manager4 = SpotifyClientCredentials(client_id=client_id, client_secret=client_secret)\n",
    "sp4 = spotipy.Spotify(client_credentials_manager=client_credentials_manager4)\n",
    "\"\"\""
   ]
  },
  {
   "cell_type": "code",
   "execution_count": 2,
   "metadata": {},
   "outputs": [
    {
     "name": "stdout",
     "output_type": "stream",
     "text": [
      "  playlist_name  playlist_pid  playlist_num_tracks  track_pos artist_name   \n",
      "0         Party       1000000                   75          0   AronChupa  \\\n",
      "1         Party       1000000                   75          1   AronChupa   \n",
      "2         Party       1000000                   75          2       Lorde   \n",
      "3         Party       1000000                   75          3       Lorde   \n",
      "4         Party       1000000                   75          4       Lorde   \n",
      "\n",
      "                              track_uri   \n",
      "0  spotify:track:66U0ASk1VHZsqIkpMjKX3B  \\\n",
      "1  spotify:track:5MhsZlmKJG6X5kTHkdwC4B   \n",
      "2  spotify:track:0GZoB8h0kqXn7XFm4Sj06k   \n",
      "3  spotify:track:35kahykNu00FPysz3C2euR   \n",
      "4  spotify:track:3G6hD9B2ZHOsgf4WfNu7X1   \n",
      "\n",
      "                              artist_uri   \n",
      "0  spotify:artist:5vCOdeiQt9LyzdI87kt5Sh  \\\n",
      "1  spotify:artist:5vCOdeiQt9LyzdI87kt5Sh   \n",
      "2  spotify:artist:163tK9Wjr9P9DmM0AVK7lm   \n",
      "3  spotify:artist:163tK9Wjr9P9DmM0AVK7lm   \n",
      "4  spotify:artist:163tK9Wjr9P9DmM0AVK7lm   \n",
      "\n",
      "                                          track_name   \n",
      "0                                       Little Swing  \\\n",
      "1                                   I'm an Albatraoz   \n",
      "2  Yellow Flicker Beat - From The Hunger Games: M...   \n",
      "3                                  White Teeth Teens   \n",
      "4                                               Team   \n",
      "\n",
      "                              album_uri  duration_ms           album_name  \n",
      "0  spotify:album:4S5MLjwRSi0NJ5nikflYnZ       163809         Little Swing  \n",
      "1  spotify:album:1qHVYbxQ6IS8YRviorKDJI       166848     I'm an Albatraoz  \n",
      "2  spotify:album:4UEPxQx0cTcYNsE0n32MHV       232506  Yellow Flicker Beat  \n",
      "3  spotify:album:0rmhjUgoVa17LZuS8xWQ3v       216600         Pure Heroine  \n",
      "4  spotify:album:0rmhjUgoVa17LZuS8xWQ3v       193058         Pure Heroine  \n"
     ]
    }
   ],
   "source": [
    "# Load JSON data from file\n",
    "with open('/Users/robin/capstone/sentify_recommender/data/challenge_set.json', 'r') as file: # Replace with local dataset path\n",
    "    data = json.load(file)\n",
    "\n",
    "# Initialize an empty list to collect all track data\n",
    "all_tracks = []\n",
    "\n",
    "# Loop through each playlist in the dataset\n",
    "for playlist in data['playlists']:\n",
    "    for track in playlist['tracks']:\n",
    "        # Add playlist-level information to each track record\n",
    "        track_info = {\n",
    "            'playlist_name': playlist.get('name', 'Unknown'),\n",
    "            'playlist_pid': playlist['pid'],\n",
    "            'playlist_num_tracks': playlist['num_tracks'],\n",
    "            'track_pos': track['pos'],\n",
    "            'artist_name': track['artist_name'],\n",
    "            'track_uri': track['track_uri'],\n",
    "            'artist_uri': track['artist_uri'],\n",
    "            'track_name': track['track_name'],\n",
    "            'album_uri': track['album_uri'],\n",
    "            'duration_ms': track['duration_ms'],\n",
    "            'album_name': track['album_name']\n",
    "        }\n",
    "        all_tracks.append(track_info)\n",
    "\n",
    "# Convert the list of track dictionaries to a DataFrame\n",
    "df_spotify = pd.DataFrame(all_tracks)\n",
    "\n",
    "# Display the first few rows of the DataFrame to verify\n",
    "print(df_spotify.head())"
   ]
  },
  {
   "cell_type": "code",
   "execution_count": 3,
   "metadata": {},
   "outputs": [],
   "source": [
    "# Creating new dataset for getting lyrics of unique songs\n",
    "df_lyrics = df_spotify.drop_duplicates(subset=['track_uri']).drop(['playlist_name', 'playlist_pid', 'playlist_num_tracks', 'track_pos',\n",
    "       'artist_uri', 'album_uri', 'duration_ms', 'album_name', 'artist_name', 'track_name'], axis=1).reset_index(drop=True)"
   ]
  },
  {
   "cell_type": "code",
   "execution_count": 4,
   "metadata": {},
   "outputs": [],
   "source": [
    "df_lyrics.to_csv('/Users/robin/capstone/sentify_recommender/data/track_uri.csv', index=False)"
   ]
  },
  {
   "cell_type": "markdown",
   "metadata": {},
   "source": [
    "### Spotify API Function"
   ]
  },
  {
   "cell_type": "code",
   "execution_count": 6,
   "metadata": {},
   "outputs": [],
   "source": [
    "def initialize_spotify_clients():\n",
    "    # Initialize spotipy with Spotify API credentials x4\n",
    "    client_id = '45369f91d6304e93bfa1420e2b25b356'\n",
    "    client_secret = '135fd962199c4239a114cde6d569efdc'\n",
    "    client_credentials_manager = SpotifyClientCredentials(client_id=client_id, client_secret=client_secret)\n",
    "    sp1 = spotipy.Spotify(client_credentials_manager=client_credentials_manager)\n",
    "\n",
    "    client_id = '10958695528741f4b8b04707c34f7b56'\n",
    "    client_secret = '69783e9b25af4c6892105fa038942fcd'\n",
    "    client_credentials_manager2 = SpotifyClientCredentials(client_id=client_id, client_secret=client_secret)\n",
    "    sp2 = spotipy.Spotify(client_credentials_manager=client_credentials_manager2)\n",
    "\n",
    "    client_id = '97eafb78b72340de8c02e32608b09ed0'\n",
    "    client_secret = '07654f9dbfe94dd5af413acec14f00ca'\n",
    "    client_credentials_manager3 = SpotifyClientCredentials(client_id=client_id, client_secret=client_secret)\n",
    "    sp3 = spotipy.Spotify(client_credentials_manager=client_credentials_manager3)\n",
    "\n",
    "    client_id = '97eafb78b72340de8c02e32608b09ed0'\n",
    "    client_secret = '07654f9dbfe94dd5af413acec14f00ca'\n",
    "    client_credentials_manager4 = SpotifyClientCredentials(client_id=client_id, client_secret=client_secret)\n",
    "    sp4 = spotipy.Spotify(client_credentials_manager=client_credentials_manager4)\n",
    "\n",
    "    print('Spotify API Clients initialized!')"
   ]
  },
  {
   "cell_type": "code",
   "execution_count": 41,
   "metadata": {},
   "outputs": [
    {
     "name": "stdout",
     "output_type": "stream",
     "text": [
      "Spotify API Clients initialized!\n"
     ]
    }
   ],
   "source": [
    "# Spotify API Iterations\n",
    "initialize_spotify_clients()\n"
   ]
  },
  {
   "cell_type": "markdown",
   "metadata": {},
   "source": [
    "### Batching Process"
   ]
  },
  {
   "cell_type": "code",
   "execution_count": 9,
   "metadata": {},
   "outputs": [],
   "source": [
    "tracks = df_lyrics[::-1]"
   ]
  },
  {
   "cell_type": "code",
   "execution_count": 11,
   "metadata": {},
   "outputs": [
    {
     "data": {
      "text/html": [
       "<div>\n",
       "<style scoped>\n",
       "    .dataframe tbody tr th:only-of-type {\n",
       "        vertical-align: middle;\n",
       "    }\n",
       "\n",
       "    .dataframe tbody tr th {\n",
       "        vertical-align: top;\n",
       "    }\n",
       "\n",
       "    .dataframe thead th {\n",
       "        text-align: right;\n",
       "    }\n",
       "</style>\n",
       "<table border=\"1\" class=\"dataframe\">\n",
       "  <thead>\n",
       "    <tr style=\"text-align: right;\">\n",
       "      <th></th>\n",
       "      <th>track_uri</th>\n",
       "    </tr>\n",
       "  </thead>\n",
       "  <tbody>\n",
       "    <tr>\n",
       "      <th>66242</th>\n",
       "      <td>spotify:track:4InLm5a9Qtkru6YxEjM4Qc</td>\n",
       "    </tr>\n",
       "    <tr>\n",
       "      <th>66241</th>\n",
       "      <td>spotify:track:38griAVM808crjbFp9gcPD</td>\n",
       "    </tr>\n",
       "    <tr>\n",
       "      <th>66240</th>\n",
       "      <td>spotify:track:1cKRBp7hrBVD4eP3W9x2AI</td>\n",
       "    </tr>\n",
       "    <tr>\n",
       "      <th>66239</th>\n",
       "      <td>spotify:track:5JugcqxQihVYdvCSPzmP1H</td>\n",
       "    </tr>\n",
       "    <tr>\n",
       "      <th>66238</th>\n",
       "      <td>spotify:track:2PBTwMH2mzfLigdMyPzOcp</td>\n",
       "    </tr>\n",
       "    <tr>\n",
       "      <th>...</th>\n",
       "      <td>...</td>\n",
       "    </tr>\n",
       "    <tr>\n",
       "      <th>32247</th>\n",
       "      <td>spotify:track:4MiQNQpkH1kYAR8mxkoUOA</td>\n",
       "    </tr>\n",
       "    <tr>\n",
       "      <th>32246</th>\n",
       "      <td>spotify:track:1hrNMTS3B260veGlzzIrRw</td>\n",
       "    </tr>\n",
       "    <tr>\n",
       "      <th>32245</th>\n",
       "      <td>spotify:track:3ALUfg1ISMMi1c38tOKk9E</td>\n",
       "    </tr>\n",
       "    <tr>\n",
       "      <th>32244</th>\n",
       "      <td>spotify:track:7BNWtMbwnx7A2cbKVG7lhe</td>\n",
       "    </tr>\n",
       "    <tr>\n",
       "      <th>32243</th>\n",
       "      <td>spotify:track:1W4c3lEi67BG5Ev7CgYqNi</td>\n",
       "    </tr>\n",
       "  </tbody>\n",
       "</table>\n",
       "<p>34000 rows × 1 columns</p>\n",
       "</div>"
      ],
      "text/plain": [
       "                                  track_uri\n",
       "66242  spotify:track:4InLm5a9Qtkru6YxEjM4Qc\n",
       "66241  spotify:track:38griAVM808crjbFp9gcPD\n",
       "66240  spotify:track:1cKRBp7hrBVD4eP3W9x2AI\n",
       "66239  spotify:track:5JugcqxQihVYdvCSPzmP1H\n",
       "66238  spotify:track:2PBTwMH2mzfLigdMyPzOcp\n",
       "...                                     ...\n",
       "32247  spotify:track:4MiQNQpkH1kYAR8mxkoUOA\n",
       "32246  spotify:track:1hrNMTS3B260veGlzzIrRw\n",
       "32245  spotify:track:3ALUfg1ISMMi1c38tOKk9E\n",
       "32244  spotify:track:7BNWtMbwnx7A2cbKVG7lhe\n",
       "32243  spotify:track:1W4c3lEi67BG5Ev7CgYqNi\n",
       "\n",
       "[34000 rows x 1 columns]"
      ]
     },
     "execution_count": 11,
     "metadata": {},
     "output_type": "execute_result"
    }
   ],
   "source": [
    "tracks.head(34000)"
   ]
  },
  {
   "cell_type": "code",
   "execution_count": 13,
   "metadata": {},
   "outputs": [],
   "source": [
    "tracks.to_csv('/Users/robin/capstone/sentify_recommender/data/tracks.csv', index=False)"
   ]
  },
  {
   "cell_type": "code",
   "execution_count": 18,
   "metadata": {},
   "outputs": [],
   "source": [
    "def process_batch(batch_data):\n",
    "    # Creating an empty DataFrame to store updated data\n",
    "    processed_data = pd.DataFrame(columns=['track_uri', 'artist_name', 'track_name'])\n",
    "    \n",
    "    \n",
    "    # Iterating over the batch_data to fetch details from Spotify\n",
    "    for i, uri in enumerate(batch_data['track_uri']):\n",
    "        try:\n",
    "            track = sp5.track(uri)\n",
    "            print(i, uri)\n",
    "            processed_data.loc[i, 'track_uri'] = uri\n",
    "            processed_data.loc[i, 'artist_name'] = track['artists'][0]['name']\n",
    "            processed_data.loc[i, 'track_name'] = track['name']\n",
    "        except Exception as e:\n",
    "            print(f\"Error processing {uri}: {e}\")\n",
    "    return processed_data"
   ]
  },
  {
   "cell_type": "code",
   "execution_count": 19,
   "metadata": {},
   "outputs": [
    {
     "name": "stdout",
     "output_type": "stream",
     "text": [
      "0 spotify:track:5JwuHzmJCmHuHGjP9W6KtK\n",
      "1 spotify:track:2OEXuupzwtyc5kufQE6QLY\n",
      "2 spotify:track:0PAlrNkCRRHv7hShF5s7Rr\n",
      "3 spotify:track:4UGWMzkmEPpYoS9myk8lAG\n",
      "4 spotify:track:4hjNUSVutNw9UoXAmfVF69\n",
      "5 spotify:track:7xIs869wO7B7Cs1TVjvrNy\n",
      "6 spotify:track:6P8BIkjHSVve0sj3rWe57M\n",
      "7 spotify:track:2d7P0fDrHyrq8U2qwVrb6k\n",
      "8 spotify:track:6vTXzEHmGHjojvaGlkLbsd\n",
      "9 spotify:track:5uBqRCsD4cQAOGk87AZkCH\n",
      "10 spotify:track:24TaG6pRF9w4btrHJJ9QAR\n",
      "11 spotify:track:5CNBbrmMX8fv4tLOPClE3W\n",
      "12 spotify:track:77XK2EBWAWXlJQVBl1jv7Q\n",
      "13 spotify:track:2ERHbxlOS0AzOfN38asUr4\n",
      "14 spotify:track:5o0Uhoq9oOuiGleKAqN0I4\n",
      "15 spotify:track:5rODWa1vt32Lczu1u19l5G\n",
      "16 spotify:track:1BVCSXkKi4b3RAO9HFY1S6\n",
      "17 spotify:track:1v6tmbdVrsUylFyP2b81Jg\n",
      "18 spotify:track:3qciYzLAiPzXbYlPWX0aup\n",
      "19 spotify:track:3KmJRXv9ICWgOinQ3LgbUA\n",
      "20 spotify:track:1EPqcEdcqdKqQHGHV8myqR\n",
      "21 spotify:track:3LUH76sCt8Xgb6d9EgdgkN\n",
      "22 spotify:track:4e9GhjdIrJLR9C8ydXQ9hn\n",
      "23 spotify:track:5mkAxp8tkj3ffQorJXk6U5\n",
      "24 spotify:track:3pnhahHXUFrQ8nQdeol6AV\n",
      "25 spotify:track:4r7AGbkZDeYII8J93kRcrY\n",
      "26 spotify:track:33ap5PegY9fqcutvyUBdAF\n",
      "27 spotify:track:3JC8cY2cecOvw51Bp61hxe\n",
      "28 spotify:track:5MRjSqaWoxrWIqCUWsdaTV\n",
      "29 spotify:track:0agOh4F8PiHH5NtTwtumYY\n",
      "30 spotify:track:1zpIpaDCv77z6zN2fHNTW9\n",
      "31 spotify:track:2lSUGI2s9EjbA93nahmpsL\n",
      "32 spotify:track:1DtQWgLprt0aNPKYymhVCy\n",
      "33 spotify:track:6bRT1zoCrrdimCPlAXqi42\n",
      "34 spotify:track:1FugsI82rYOYyvvTQDBO81\n",
      "35 spotify:track:5qjjDvyobtDUUU4VDbQbec\n",
      "36 spotify:track:18VxeyQdMQQG3FaY2I8A04\n",
      "37 spotify:track:0IEHa6zoxOfQx7jDpcYQ1l\n",
      "38 spotify:track:0JiX8NsRdCHm8GliFuf97V\n",
      "39 spotify:track:5A9ua0k6V3pec91rPsB18f\n",
      "40 spotify:track:070veIvrN7HDNjD4281WcY\n",
      "41 spotify:track:51iNZz9l1U9ul0p87jbrbr\n",
      "42 spotify:track:7htshkhgRnlesKb9TWTOwj\n",
      "43 spotify:track:6WEd8mYhMd86b7sMdt1eqK\n",
      "44 spotify:track:7kVeOqhHUO9D2ikz2lAhbE\n",
      "45 spotify:track:126MT0Q6hGmmr1x5OU9xdF\n",
      "46 spotify:track:6WGXHRePA7B1bXuLS0CL11\n",
      "47 spotify:track:5zfRHVhJoGL5f7l4vE30Xu\n",
      "48 spotify:track:5ySWn8U3QgyriT2wAAqUTq\n",
      "49 spotify:track:318AgoKVYc1BuX8XBthGtR\n"
     ]
    },
    {
     "ename": "KeyboardInterrupt",
     "evalue": "",
     "output_type": "error",
     "traceback": [
      "\u001b[0;31m---------------------------------------------------------------------------\u001b[0m",
      "\u001b[0;31mKeyboardInterrupt\u001b[0m                         Traceback (most recent call last)",
      "Cell \u001b[0;32mIn[19], line 15\u001b[0m\n\u001b[1;32m     13\u001b[0m \u001b[38;5;28;01mfor\u001b[39;00m chunk \u001b[38;5;129;01min\u001b[39;00m pd\u001b[38;5;241m.\u001b[39mread_csv(csv_file, chunksize\u001b[38;5;241m=\u001b[39mchunk_size):\n\u001b[1;32m     14\u001b[0m     processed_chunk \u001b[38;5;241m=\u001b[39m process_batch(chunk)\n\u001b[0;32m---> 15\u001b[0m     \u001b[43mtime\u001b[49m\u001b[38;5;241;43m.\u001b[39;49m\u001b[43msleep\u001b[49m\u001b[43m(\u001b[49m\u001b[38;5;241;43m5\u001b[39;49m\u001b[43m)\u001b[49m\n\u001b[1;32m     16\u001b[0m     \u001b[38;5;66;03m# Append each processed chunk to the output file\u001b[39;00m\n\u001b[1;32m     17\u001b[0m     processed_chunk\u001b[38;5;241m.\u001b[39mto_csv(output_file, mode\u001b[38;5;241m=\u001b[39m\u001b[38;5;124m\"\u001b[39m\u001b[38;5;124ma\u001b[39m\u001b[38;5;124m\"\u001b[39m, header\u001b[38;5;241m=\u001b[39m\u001b[38;5;28;01mFalse\u001b[39;00m, index\u001b[38;5;241m=\u001b[39m\u001b[38;5;28;01mFalse\u001b[39;00m)\n",
      "\u001b[0;31mKeyboardInterrupt\u001b[0m: "
     ]
    }
   ],
   "source": [
    "chunk_size = 50\n",
    "# Before pushing - rredirevt path to ../data/tracks.csv\n",
    "csv_file = \"/Users/robin/capstone/sentify_recommender/data/tracks.csv\"  # Path to input CSV file\n",
    "output_file = \"/Users/robin/capstone/sentify_recommender/data/output.csv\"  # Path to save the processed data\n",
    "\n",
    "# put in .dotenv\n",
    "client_id = 'ddc504d2602c4a969662de9cc44daaef'\n",
    "client_secret = '5017f87748294aa8a3d306e5e2ec250f'\n",
    "client_credentials_manager = SpotifyClientCredentials(client_id=client_id, client_secret=client_secret)\n",
    "sp5 = spotipy.Spotify(client_credentials_manager=client_credentials_manager)\n",
    "\n",
    "# Read the CSV file in batches and process each batch\n",
    "for chunk in pd.read_csv(csv_file, chunksize=chunk_size):\n",
    "    processed_chunk = process_batch(chunk)\n",
    "    time.sleep(5)\n",
    "    # Append each processed chunk to the output file\n",
    "    processed_chunk.to_csv(output_file, mode=\"a\", header=False, index=False)"
   ]
  },
  {
   "cell_type": "code",
   "execution_count": 5,
   "metadata": {},
   "outputs": [
    {
     "name": "stdout",
     "output_type": "stream",
     "text": [
      "Index of 'spotify:track:3QWgLzCrAVkmw5eoHPN5uB': 5000\n"
     ]
    }
   ],
   "source": [
    "# Assuming df_lyrics is your DataFrame\n",
    "df_lyrics = pd.read_csv('/Users/robin/capstone/sentify_recommender/data/tracks.csv', header=None)\n",
    "\n",
    "# Get the index where the specified value is present in the 'artist_uri' column\n",
    "index_of_value = df_lyrics[df_lyrics[0] == 'spotify:track:3QWgLzCrAVkmw5eoHPN5uB'].index[0]\n",
    "\n",
    "# Print the index\n",
    "print(\"Index of 'spotify:track:3QWgLzCrAVkmw5eoHPN5uB':\", index_of_value)\n"
   ]
  },
  {
   "cell_type": "code",
   "execution_count": 4,
   "metadata": {},
   "outputs": [
    {
     "data": {
      "text/html": [
       "<div>\n",
       "<style scoped>\n",
       "    .dataframe tbody tr th:only-of-type {\n",
       "        vertical-align: middle;\n",
       "    }\n",
       "\n",
       "    .dataframe tbody tr th {\n",
       "        vertical-align: top;\n",
       "    }\n",
       "\n",
       "    .dataframe thead th {\n",
       "        text-align: right;\n",
       "    }\n",
       "</style>\n",
       "<table border=\"1\" class=\"dataframe\">\n",
       "  <thead>\n",
       "    <tr style=\"text-align: right;\">\n",
       "      <th></th>\n",
       "      <th>0</th>\n",
       "    </tr>\n",
       "  </thead>\n",
       "  <tbody>\n",
       "    <tr>\n",
       "      <th>0</th>\n",
       "      <td>track_uri</td>\n",
       "    </tr>\n",
       "    <tr>\n",
       "      <th>1</th>\n",
       "      <td>spotify:track:2R6yYUBbSFU1ySS2uagdPf</td>\n",
       "    </tr>\n",
       "    <tr>\n",
       "      <th>2</th>\n",
       "      <td>spotify:track:2zYFfLULhSgZWCCRVZ5csm</td>\n",
       "    </tr>\n",
       "    <tr>\n",
       "      <th>3</th>\n",
       "      <td>spotify:track:7hj3WpGxNxxBAjKijtQ5Hp</td>\n",
       "    </tr>\n",
       "    <tr>\n",
       "      <th>4</th>\n",
       "      <td>spotify:track:4FXDIktJCcYZ5EzR7ZzQBa</td>\n",
       "    </tr>\n",
       "    <tr>\n",
       "      <th>...</th>\n",
       "      <td>...</td>\n",
       "    </tr>\n",
       "    <tr>\n",
       "      <th>56311</th>\n",
       "      <td>spotify:track:3G6hD9B2ZHOsgf4WfNu7X1</td>\n",
       "    </tr>\n",
       "    <tr>\n",
       "      <th>56312</th>\n",
       "      <td>spotify:track:35kahykNu00FPysz3C2euR</td>\n",
       "    </tr>\n",
       "    <tr>\n",
       "      <th>56313</th>\n",
       "      <td>spotify:track:0GZoB8h0kqXn7XFm4Sj06k</td>\n",
       "    </tr>\n",
       "    <tr>\n",
       "      <th>56314</th>\n",
       "      <td>spotify:track:5MhsZlmKJG6X5kTHkdwC4B</td>\n",
       "    </tr>\n",
       "    <tr>\n",
       "      <th>56315</th>\n",
       "      <td>spotify:track:66U0ASk1VHZsqIkpMjKX3B</td>\n",
       "    </tr>\n",
       "  </tbody>\n",
       "</table>\n",
       "<p>56316 rows × 1 columns</p>\n",
       "</div>"
      ],
      "text/plain": [
       "                                          0\n",
       "0                                 track_uri\n",
       "1      spotify:track:2R6yYUBbSFU1ySS2uagdPf\n",
       "2      spotify:track:2zYFfLULhSgZWCCRVZ5csm\n",
       "3      spotify:track:7hj3WpGxNxxBAjKijtQ5Hp\n",
       "4      spotify:track:4FXDIktJCcYZ5EzR7ZzQBa\n",
       "...                                     ...\n",
       "56311  spotify:track:3G6hD9B2ZHOsgf4WfNu7X1\n",
       "56312  spotify:track:35kahykNu00FPysz3C2euR\n",
       "56313  spotify:track:0GZoB8h0kqXn7XFm4Sj06k\n",
       "56314  spotify:track:5MhsZlmKJG6X5kTHkdwC4B\n",
       "56315  spotify:track:66U0ASk1VHZsqIkpMjKX3B\n",
       "\n",
       "[56316 rows x 1 columns]"
      ]
     },
     "execution_count": 4,
     "metadata": {},
     "output_type": "execute_result"
    }
   ],
   "source": [
    "df_lyrics"
   ]
  },
  {
   "cell_type": "code",
   "execution_count": 6,
   "metadata": {},
   "outputs": [
    {
     "name": "stdout",
     "output_type": "stream",
     "text": [
      "                                          0\n",
      "0                                 track_uri\n",
      "5001   spotify:track:5JwuHzmJCmHuHGjP9W6KtK\n",
      "5002   spotify:track:2OEXuupzwtyc5kufQE6QLY\n",
      "5003   spotify:track:0PAlrNkCRRHv7hShF5s7Rr\n",
      "5004   spotify:track:4UGWMzkmEPpYoS9myk8lAG\n",
      "...                                     ...\n",
      "51311  spotify:track:3G6hD9B2ZHOsgf4WfNu7X1\n",
      "51312  spotify:track:35kahykNu00FPysz3C2euR\n",
      "51313  spotify:track:0GZoB8h0kqXn7XFm4Sj06k\n",
      "51314  spotify:track:5MhsZlmKJG6X5kTHkdwC4B\n",
      "51315  spotify:track:66U0ASk1VHZsqIkpMjKX3B\n",
      "\n",
      "[46316 rows x 1 columns]\n"
     ]
    }
   ],
   "source": [
    "# Assuming df_lyrics is your DataFrame\n",
    "\n",
    "# Drop rows up to and including the specified index\n",
    "df_lyrics = df_lyrics.drop(index=df_lyrics.index[1:index_of_value + 1])\n",
    "\n",
    "# Print the updated DataFrame\n",
    "print(df_lyrics)"
   ]
  },
  {
   "cell_type": "code",
   "execution_count": 7,
   "metadata": {},
   "outputs": [],
   "source": [
    "df_lyrics.to_csv('/Users/robin/capstone/sentify_recommender/data/tracks.csv', index=False, header=None)"
   ]
  },
  {
   "cell_type": "code",
   "execution_count": 16,
   "metadata": {},
   "outputs": [],
   "source": [
    "\n",
    "output1 = pd.read_csv('/Users/robin/capstone/sentify_recommender/data/output1.csv')\n",
    "output2 = pd.read_csv('/Users/robin/capstone/sentify_recommender/data/output2.csv')\n",
    "output3 = pd.read_csv('/Users/robin/capstone/sentify_recommender/data/output3.csv')\n",
    "output4 = pd.read_csv('/Users/robin/capstone/sentify_recommender/data/output4.csv')\n",
    "\n",
    "output1.columns = ['track_uri', 'artist_name', 'track_name']\n",
    "output2.columns = ['track_uri', 'artist_name', 'track_name']\n",
    "output3.columns = ['track_uri', 'artist_name', 'track_name']\n",
    "output4.columns = ['track_uri', 'artist_name', 'track_name']"
   ]
  },
  {
   "cell_type": "code",
   "execution_count": 17,
   "metadata": {},
   "outputs": [],
   "source": [
    "pd.concat([output1, output2, output3, output4]).to_csv('output_robin.csv', index=False, header=None)"
   ]
  }
 ],
 "metadata": {
  "kernelspec": {
   "display_name": ".venv",
   "language": "python",
   "name": "python3"
  },
  "language_info": {
   "codemirror_mode": {
    "name": "ipython",
    "version": 3
   },
   "file_extension": ".py",
   "mimetype": "text/x-python",
   "name": "python",
   "nbconvert_exporter": "python",
   "pygments_lexer": "ipython3",
   "version": "3.11.3"
  }
 },
 "nbformat": 4,
 "nbformat_minor": 2
}
