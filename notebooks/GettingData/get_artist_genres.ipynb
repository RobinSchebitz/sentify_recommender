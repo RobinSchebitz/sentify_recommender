{
 "cells": [
  {
   "cell_type": "code",
   "execution_count": 5,
   "metadata": {},
   "outputs": [],
   "source": [
    "import pandas as pd\n",
    "import numpy as np\n",
    "import json\n",
    "import spotipy\n",
    "from spotipy.oauth2 import SpotifyOAuth\n",
    "from dotenv import load_dotenv\n",
    "import os\n",
    "\n",
    "from CreatePlaylist import CreatePlaylist"
   ]
  },
  {
   "cell_type": "code",
   "execution_count": 6,
   "metadata": {},
   "outputs": [],
   "source": [
    "# Load JSON data from file\n",
    "with open('data/challenge_set.json', 'r') as file: # Replace with local dataset path\n",
    "    data = json.load(file)\n",
    "\n",
    "# Initialize an empty list to collect all track data\n",
    "all_tracks = []\n",
    "\n",
    "# Loop through each playlist in the dataset\n",
    "for playlist in data['playlists']:\n",
    "    for track in playlist['tracks']:\n",
    "        # Add playlist-level information to each track record\n",
    "        track_info = {\n",
    "            'playlist_name': playlist.get('name', 'Unknown'),\n",
    "            'playlist_pid': playlist['pid'],\n",
    "            'playlist_num_tracks': playlist['num_tracks'],\n",
    "            'track_pos': track['pos'],\n",
    "            'artist_name': track['artist_name'],\n",
    "            'track_uri': track['track_uri'],\n",
    "            'artist_uri': track['artist_uri'],\n",
    "            'track_name': track['track_name'],\n",
    "            'album_uri': track['album_uri'],\n",
    "            'duration_ms': track['duration_ms'],\n",
    "            'album_name': track['album_name']\n",
    "        }\n",
    "        all_tracks.append(track_info)\n",
    "\n",
    "# Convert the list of track dictionaries to a DataFrame\n",
    "df_spotify = pd.DataFrame(all_tracks)"
   ]
  },
  {
   "cell_type": "code",
   "execution_count": 7,
   "metadata": {},
   "outputs": [],
   "source": [
    "#df_get_genre = pd.read_csv('df_get_genre.csv')\n",
    "df_get_genre = df_spotify\n",
    "df_get_genre = df_get_genre.drop_duplicates(subset='artist_uri')['artist_uri'].to_frame()\n",
    "df_get_genre['artist_genres'] = \"\"\n",
    "\n",
    "artist_uris = df_get_genre['artist_uri'].unique().tolist()"
   ]
  },
  {
   "cell_type": "code",
   "execution_count": 8,
   "metadata": {},
   "outputs": [],
   "source": [
    "spotify_api = CreatePlaylist()"
   ]
  },
  {
   "cell_type": "code",
   "execution_count": 13,
   "metadata": {},
   "outputs": [],
   "source": [
    "def get_artist_genres(batch_size=50, count_batches=0):\n",
    "\n",
    "    df_fetch_genres = pd.DataFrame(columns=['artist_uri', 'artist_genres'])\n",
    "\n",
    "    start_index = int(input(count_batches))\n",
    "\n",
    "    for i in range(start_index, len(artist_uris), batch_size):\n",
    "        batch = artist_uris[i:i + batch_size]\n",
    "        artist_genres_results = spotify_api.sp.artists(artists=batch)\n",
    "\n",
    "        genres = []\n",
    "        for i in artist_genres_results['artists']:\n",
    "            genres.extend([i['genres']])\n",
    "        zipped = list(zip(batch, genres))\n",
    "        df_fetch_genres = pd.concat([df_fetch_genres, pd.DataFrame(zipped, columns=['artist_uri', 'artist_genres'])], ignore_index=True)\n",
    "\n",
    "        # Write the resulting DataFrame to a new CSV file with semicolon as the delimiter\n",
    "        df_fetch_genres.to_csv('tracks_with_genres.csv', sep=';', index=False)\n",
    "        count_batches += 1\n",
    "        print(f\"Batches run successfully: {count_batches}\", end='\\r')\n",
    "        last_batch = count_batches\n",
    "    print('Done!')\n",
    "    return df_fetch_genres"
   ]
  },
  {
   "cell_type": "code",
   "execution_count": 15,
   "metadata": {},
   "outputs": [
    {
     "name": "stdout",
     "output_type": "stream",
     "text": [
      "Done!es run successfully: 282\n"
     ]
    }
   ],
   "source": [
    "df_fetch_genres = get_artist_genres()"
   ]
  },
  {
   "cell_type": "code",
   "execution_count": 18,
   "metadata": {},
   "outputs": [],
   "source": [
    "# Dummy encode artist_genre from their list structure\n",
    "df_genre_dummies = pd.get_dummies(df_fetch_genres['artist_genres'].explode()).groupby(level=0).sum()\n",
    "df_genre_dummies['artist_uri'] = df_fetch_genres['artist_uri']\n",
    "df_genre_dummies.to_csv('dummy_encoded_genres.csv', index=False)"
   ]
  }
 ],
 "metadata": {
  "kernelspec": {
   "display_name": ".venv",
   "language": "python",
   "name": "python3"
  },
  "language_info": {
   "codemirror_mode": {
    "name": "ipython",
    "version": 3
   },
   "file_extension": ".py",
   "mimetype": "text/x-python",
   "name": "python",
   "nbconvert_exporter": "python",
   "pygments_lexer": "ipython3",
   "version": "3.11.3"
  }
 },
 "nbformat": 4,
 "nbformat_minor": 2
}
