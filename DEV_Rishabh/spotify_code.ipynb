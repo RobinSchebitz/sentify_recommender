{
 "cells": [
  {
   "cell_type": "code",
   "execution_count": null,
   "metadata": {},
   "outputs": [],
   "source": [
    "# Connecting with Spotify API\n",
    "import pandas as pd\n",
    "import spotipy\n",
    "from spotipy.oauth2 import SpotifyClientCredentials\n",
    "\n",
    "# Initialize spotipy with Spotify API credentials\n",
    "client_id = '5093ad0ad45f435ca7ce43b2afd406b9'  # Replace with your client ID\n",
    "client_secret = 'f151962f414144aa85494be81ccd8e20'  # Replace with your client secret\n",
    "client_credentials_manager = SpotifyClientCredentials(client_id=client_id, client_secret=client_secret)\n",
    "sp = spotipy.Spotify(client_credentials_manager=client_credentials_manager)"
   ]
  },
  {
   "cell_type": "code",
   "execution_count": null,
   "metadata": {},
   "outputs": [],
   "source": [
    "# Fetching data from Spotify Million Playlist dataset\n",
    "import json\n",
    "\n",
    "# Load JSON data from file\n",
    "with open('/data/challenge_set.json', 'r') as file: # Replace with local dataset path\n",
    "    data = json.load(file)\n",
    "\n",
    "# Initialize an empty list to collect all track data\n",
    "all_tracks = []\n",
    "\n",
    "# Loop through each playlist in the dataset\n",
    "for playlist in data['playlists']:\n",
    "    for track in playlist['tracks']:\n",
    "        # Add playlist-level information to each track record\n",
    "        track_info = {\n",
    "            'playlist_name': playlist.get('name', 'Unknown'),\n",
    "            'playlist_pid': playlist['pid'],\n",
    "            'playlist_num_tracks': playlist['num_tracks'],\n",
    "            'track_pos': track['pos'],\n",
    "            'artist_name': track['artist_name'],\n",
    "            'track_uri': track['track_uri'],\n",
    "            'artist_uri': track['artist_uri'],\n",
    "            'track_name': track['track_name'],\n",
    "            'album_uri': track['album_uri'],\n",
    "            'duration_ms': track['duration_ms'],\n",
    "            'album_name': track['album_name']\n",
    "        }\n",
    "        all_tracks.append(track_info)\n",
    "\n",
    "# Convert the list of track dictionaries to a DataFrame\n",
    "df_spotify = pd.DataFrame(all_tracks)\n",
    "\n",
    "# Display the first few rows of the DataFrame to verify\n",
    "print(df_spotify.head())"
   ]
  },
  {
   "cell_type": "code",
   "execution_count": null,
   "metadata": {},
   "outputs": [],
   "source": [
    "# Creating new dataset for getting lyrics of unique songs\n",
    "df_lyrics = df_spotify.drop_duplicates(subset=['track_uri']).drop(['playlist_name', 'playlist_pid', 'playlist_num_tracks', 'track_pos',\n",
    "       'artist_uri', 'album_uri', 'duration_ms', 'album_name'], axis=1).reset_index()#inplace=True)"
   ]
  },
  {
   "cell_type": "code",
   "execution_count": null,
   "metadata": {},
   "outputs": [],
   "source": [
    "# Function to fetch artist name and track name\n",
    "def fetch_tracks_details(track_uris):\n",
    "    try:\n",
    "        tracks_info = sp.tracks(track_uris)\n",
    "        results = []\n",
    "        for track in tracks_info['tracks']:\n",
    "            if track:  # Check if track details are successfully retrieved\n",
    "                artist_name = track['artists'][0]['name'] if track['artists'] else 'Unknown'\n",
    "                track_name = track['name'] if track else 'Unknown'\n",
    "                results.append((artist_name, track_name))\n",
    "            else:\n",
    "                results.append(('Unknown', 'Unknown'))\n",
    "        return results\n",
    "    except Exception as e:\n",
    "        print(f\"Error processing batch: {str(e)}\")\n",
    "        return [('Unknown', 'Unknown')] * len(track_uris)"
   ]
  },
  {
   "cell_type": "code",
   "execution_count": null,
   "metadata": {},
   "outputs": [],
   "source": [
    "# Apply batch processing\n",
    "batch_size = 50\n",
    "artist_names = []\n",
    "track_names = []\n",
    "\n",
    "for i in range(0, len(df_lyrics['track_uri']), batch_size):\n",
    "    batch_uris = df_lyrics['track_uri'][i:i + batch_size].tolist()\n",
    "    batch_results = fetch_tracks_details(batch_uris)\n",
    "    artist_names.extend([res[0] for res in batch_results])\n",
    "    track_names.extend([res[1] for res in batch_results])\n",
    "\n",
    "df_lyrics['alb_name'] = artist_names\n",
    "df_lyrics['trk_name'] = track_names"
   ]
  },
  {
   "cell_type": "code",
   "execution_count": null,
   "metadata": {},
   "outputs": [],
   "source": [
    "# Save the updated DataFrame\n",
    "df_lyrics.to_csv('df_lyrics_updated.csv', index=False)"
   ]
  }
 ],
 "metadata": {
  "language_info": {
   "name": "python"
  }
 },
 "nbformat": 4,
 "nbformat_minor": 2
}
