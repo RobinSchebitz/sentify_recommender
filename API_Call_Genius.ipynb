{
 "cells": [
  {
   "cell_type": "markdown",
   "metadata": {},
   "source": [
    "# API Call Genius Lyrics"
   ]
  },
  {
   "cell_type": "code",
   "execution_count": 1,
   "metadata": {},
   "outputs": [],
   "source": [
    "from dotenv import load_dotenv\n",
    "import os\n",
    "import lyricsgenius\n",
    "import pandas as pd\n",
    "import json"
   ]
  },
  {
   "cell_type": "code",
   "execution_count": 22,
   "metadata": {},
   "outputs": [],
   "source": [
    "df = pd.read_csv('clean_spotify_data.csv')\n",
    "df2 = df.head(20).to_csv('lyrics_test_20.csv', index=False)"
   ]
  },
  {
   "cell_type": "code",
   "execution_count": 3,
   "metadata": {},
   "outputs": [],
   "source": [
    "# Calling for Genius API credentials from dotenv file\n",
    "load_dotenv()\n",
    "token = os.getenv(\"genius_token\")\n",
    "genius = lyricsgenius.Genius(token) # Providing token info to access information \n",
    "genius.remove_section_headers = True # Remove section headers (e.g. [Chorus]) from lyrics when searching\n",
    "genius.timeout = 60 # Timeout call for API"
   ]
  },
  {
   "cell_type": "code",
   "execution_count": 32,
   "metadata": {},
   "outputs": [],
   "source": [
    "def process_batch(batch_data):\n",
    "    # Creating an empty DataFrame to store updated data\n",
    "    processed_data = pd.DataFrame(columns=['track_uri', 'artist_name', 'track_name', 'lyrics'])\n",
    "\n",
    "\n",
    "    # Iterating over the batch_data to fetch details from Spotify\n",
    "    for i in range(len(batch_data)-1):\n",
    "        try:\n",
    "            track = genius.search_song(batch_data['track_name'][i], batch_data['artist_name'][i])\n",
    "\n",
    "            processed_data.loc[i, 'track_uri'] = batch_data['track_uri'][i]\n",
    "            processed_data.loc[i, 'artist_name'] = batch_data['artist_name'][i]\n",
    "            processed_data.loc[i, 'track_name'] = batch_data['track_name'][i]\n",
    "            processed_data.loc[i, 'lyrics'] = track.lyrics if track else 'Lyrics not found'\n",
    "\n",
    "            print(i)\n",
    "        except Exception as e:\n",
    "            print(f\"Error processing {batch_data['track_uri'][i]}: {e}\")\n",
    "    return processed_data"
   ]
  },
  {
   "cell_type": "code",
   "execution_count": 33,
   "metadata": {},
   "outputs": [
    {
     "name": "stdout",
     "output_type": "stream",
     "text": [
      "Empty DataFrame\n",
      "Columns: [track_uri, artist_name, track_name, lyrics]\n",
      "Index: []\n",
      "Empty DataFrame\n",
      "Columns: [track_uri, artist_name, track_name, lyrics]\n",
      "Index: []\n",
      "Empty DataFrame\n",
      "Columns: [track_uri, artist_name, track_name, lyrics]\n",
      "Index: []\n",
      "Empty DataFrame\n",
      "Columns: [track_uri, artist_name, track_name, lyrics]\n",
      "Index: []\n",
      "Empty DataFrame\n",
      "Columns: [track_uri, artist_name, track_name, lyrics]\n",
      "Index: []\n",
      "Empty DataFrame\n",
      "Columns: [track_uri, artist_name, track_name, lyrics]\n",
      "Index: []\n",
      "Empty DataFrame\n",
      "Columns: [track_uri, artist_name, track_name, lyrics]\n",
      "Index: []\n",
      "Empty DataFrame\n",
      "Columns: [track_uri, artist_name, track_name, lyrics]\n",
      "Index: []\n",
      "Empty DataFrame\n",
      "Columns: [track_uri, artist_name, track_name, lyrics]\n",
      "Index: []\n",
      "Empty DataFrame\n",
      "Columns: [track_uri, artist_name, track_name, lyrics]\n",
      "Index: []\n",
      "Empty DataFrame\n",
      "Columns: [track_uri, artist_name, track_name, lyrics]\n",
      "Index: []\n",
      "Empty DataFrame\n",
      "Columns: [track_uri, artist_name, track_name, lyrics]\n",
      "Index: []\n",
      "Empty DataFrame\n",
      "Columns: [track_uri, artist_name, track_name, lyrics]\n",
      "Index: []\n",
      "Empty DataFrame\n",
      "Columns: [track_uri, artist_name, track_name, lyrics]\n",
      "Index: []\n",
      "Empty DataFrame\n",
      "Columns: [track_uri, artist_name, track_name, lyrics]\n",
      "Index: []\n",
      "Empty DataFrame\n",
      "Columns: [track_uri, artist_name, track_name, lyrics]\n",
      "Index: []\n",
      "Empty DataFrame\n",
      "Columns: [track_uri, artist_name, track_name, lyrics]\n",
      "Index: []\n",
      "Empty DataFrame\n",
      "Columns: [track_uri, artist_name, track_name, lyrics]\n",
      "Index: []\n",
      "Empty DataFrame\n",
      "Columns: [track_uri, artist_name, track_name, lyrics]\n",
      "Index: []\n",
      "Empty DataFrame\n",
      "Columns: [track_uri, artist_name, track_name, lyrics]\n",
      "Index: []\n"
     ]
    }
   ],
   "source": [
    "chunk_size = 1\n",
    "csv_file = 'lyrics_test_20.csv'  # Path to input CSV file\n",
    "output_file = \"lyrics_test.csv\"  # Path to save the processed data\n",
    "\n",
    "#start_row = 0 # Adjust row number from which processing needs to be started\n",
    "\n",
    "# Read the CSV file in batches and process each batch\n",
    "for chunk in pd.read_csv(csv_file, chunksize=chunk_size):\n",
    "    processed_chunk = process_batch(chunk)\n",
    "    # Append each processed chunk to the output file\n",
    "    print(processed_chunk)\n",
    "    #processed_chunk.to_csv(output_file, mode=\"a\", header=False, index=False)"
   ]
  },
  {
   "cell_type": "code",
   "execution_count": null,
   "metadata": {},
   "outputs": [],
   "source": [
    "\"\"\" import lyricsgenius\n",
    "\n",
    "# Initialize Genius API with your access token\n",
    "genius = lyricsgenius.Genius('put_your_token_here')\n",
    "genius.remove_section_headers = True  # Optional: remove section headers from lyrics\n",
    "\n",
    "# Specify the song and artist you want to fetch lyrics for\n",
    "song_name = \"DONT trust ME (feat. KIDCUDI)\"  # Example song, replace with your desired song\n",
    "artist_name = \"3OH!3\"  # Example artist, replace with the relevant artist\n",
    "\n",
    "# Fetch the lyrics using Genius\n",
    "song = genius.search_song(song_name, artist_name)\n",
    "lyrics = song.lyrics if song else \"Lyrics not found\"\n",
    "\n",
    "print(f\"Lyrics for '{song_name}' by {artist_name}:\\n{lyrics}\") \"\"\""
   ]
  }
 ],
 "metadata": {
  "kernelspec": {
   "display_name": ".venv",
   "language": "python",
   "name": "python3"
  },
  "language_info": {
   "codemirror_mode": {
    "name": "ipython",
    "version": 3
   },
   "file_extension": ".py",
   "mimetype": "text/x-python",
   "name": "python",
   "nbconvert_exporter": "python",
   "pygments_lexer": "ipython3",
   "version": "3.11.3"
  }
 },
 "nbformat": 4,
 "nbformat_minor": 2
}
