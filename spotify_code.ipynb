{
 "cells": [
  {
   "cell_type": "code",
   "execution_count": 1,
   "metadata": {},
   "outputs": [],
   "source": [
    "# Connecting with Spotify API\n",
    "import pandas as pd\n",
    "import spotipy\n",
    "from spotipy.oauth2 import SpotifyClientCredentials\n",
    "\n",
    "# Initializing spotipy with Spotify API credentials\n",
    "client_id = '5093ad0ad45f435ca7ce43b2afd406b9'  # Replace with your client ID\n",
    "client_secret = '75187bd4618948b49090ebc2c9b57eca'  # Replace with your client secret\n",
    "client_credentials_manager = SpotifyClientCredentials(client_id=client_id, client_secret=client_secret)\n",
    "sp = spotipy.Spotify(client_credentials_manager=client_credentials_manager)"
   ]
  },
  {
   "cell_type": "code",
   "execution_count": 2,
   "metadata": {},
   "outputs": [
    {
     "name": "stdout",
     "output_type": "stream",
     "text": [
      "  playlist_name  playlist_pid  playlist_num_tracks  track_pos artist_name   \n",
      "0         Party       1000000                   75          0   AronChupa  \\\n",
      "1         Party       1000000                   75          1   AronChupa   \n",
      "2         Party       1000000                   75          2       Lorde   \n",
      "3         Party       1000000                   75          3       Lorde   \n",
      "4         Party       1000000                   75          4       Lorde   \n",
      "\n",
      "                              track_uri   \n",
      "0  spotify:track:66U0ASk1VHZsqIkpMjKX3B  \\\n",
      "1  spotify:track:5MhsZlmKJG6X5kTHkdwC4B   \n",
      "2  spotify:track:0GZoB8h0kqXn7XFm4Sj06k   \n",
      "3  spotify:track:35kahykNu00FPysz3C2euR   \n",
      "4  spotify:track:3G6hD9B2ZHOsgf4WfNu7X1   \n",
      "\n",
      "                              artist_uri   \n",
      "0  spotify:artist:5vCOdeiQt9LyzdI87kt5Sh  \\\n",
      "1  spotify:artist:5vCOdeiQt9LyzdI87kt5Sh   \n",
      "2  spotify:artist:163tK9Wjr9P9DmM0AVK7lm   \n",
      "3  spotify:artist:163tK9Wjr9P9DmM0AVK7lm   \n",
      "4  spotify:artist:163tK9Wjr9P9DmM0AVK7lm   \n",
      "\n",
      "                                          track_name   \n",
      "0                                       Little Swing  \\\n",
      "1                                   I'm an Albatraoz   \n",
      "2  Yellow Flicker Beat - From The Hunger Games: M...   \n",
      "3                                  White Teeth Teens   \n",
      "4                                               Team   \n",
      "\n",
      "                              album_uri  duration_ms           album_name  \n",
      "0  spotify:album:4S5MLjwRSi0NJ5nikflYnZ       163809         Little Swing  \n",
      "1  spotify:album:1qHVYbxQ6IS8YRviorKDJI       166848     I'm an Albatraoz  \n",
      "2  spotify:album:4UEPxQx0cTcYNsE0n32MHV       232506  Yellow Flicker Beat  \n",
      "3  spotify:album:0rmhjUgoVa17LZuS8xWQ3v       216600         Pure Heroine  \n",
      "4  spotify:album:0rmhjUgoVa17LZuS8xWQ3v       193058         Pure Heroine  \n"
     ]
    }
   ],
   "source": [
    "# Fetching data from Spotify Million Playlist dataset\n",
    "import json\n",
    "\n",
    "# Load JSON data from file\n",
    "with open('data/challenge_set.json', 'r') as file: # Replace with local dataset path\n",
    "    data = json.load(file)\n",
    "\n",
    "# Initialize an empty list to collect all track data\n",
    "all_tracks = []\n",
    "\n",
    "# Loop through each playlist in the dataset\n",
    "for playlist in data['playlists']:\n",
    "    for track in playlist['tracks']:\n",
    "        # Add playlist-level information to each track record\n",
    "        track_info = {\n",
    "            'playlist_name': playlist.get('name', 'Unknown'),\n",
    "            'playlist_pid': playlist['pid'],\n",
    "            'playlist_num_tracks': playlist['num_tracks'],\n",
    "            'track_pos': track['pos'],\n",
    "            'artist_name': track['artist_name'],\n",
    "            'track_uri': track['track_uri'],\n",
    "            'artist_uri': track['artist_uri'],\n",
    "            'track_name': track['track_name'],\n",
    "            'album_uri': track['album_uri'],\n",
    "            'duration_ms': track['duration_ms'],\n",
    "            'album_name': track['album_name']\n",
    "        }\n",
    "        all_tracks.append(track_info)\n",
    "\n",
    "# Convert the list of track dictionaries to a DataFrame\n",
    "df_spotify = pd.DataFrame(all_tracks)\n",
    "\n",
    "# Display the first few rows of the DataFrame to verify\n",
    "print(df_spotify.head())"
   ]
  },
  {
   "cell_type": "code",
   "execution_count": 3,
   "metadata": {},
   "outputs": [],
   "source": [
    "# Creating new dataset for getting lyrics of unique songs\n",
    "df_lyrics = df_spotify.drop_duplicates(subset=['track_uri']).drop(['playlist_name', 'playlist_pid', 'playlist_num_tracks', 'track_pos', 'artist_name',\n",
    "       'artist_uri', 'track_name', 'album_uri', 'duration_ms', 'album_name'], axis=1).reset_index(drop=True)"
   ]
  },
  {
   "cell_type": "code",
   "execution_count": null,
   "metadata": {},
   "outputs": [],
   "source": [
    "df_lyrics.head()"
   ]
  },
  {
   "cell_type": "code",
   "execution_count": null,
   "metadata": {},
   "outputs": [],
   "source": [
    "sp.artist('spotify:artist:5vCOdeiQt9LyzdI87kt5Sh')"
   ]
  },
  {
   "cell_type": "code",
   "execution_count": null,
   "metadata": {},
   "outputs": [],
   "source": [
    "def get_artist_and_track_name(track_uri):\n",
    "    try:\n",
    "        track_data = sp.track(track_uri)\n",
    "        artist_name = track_data['artists'][0]['name'] if track_data['artists'] else 'Unknown Artist'\n",
    "        #track_name = track_data['name'] if track_data else 'Unknown Track'\n",
    "        return artist_name#, track_name\n",
    "    except Exception as e:\n",
    "        print(f\"Error retrieving track details: {str(e)}\")\n",
    "        return 'Error', 'Error'"
   ]
  },
  {
   "cell_type": "code",
   "execution_count": null,
   "metadata": {},
   "outputs": [],
   "source": [
    "track_uri = 'spotify:track:66U0ASk1VHZsqIkpMjKX3B' \n",
    "artist_name, track_name = get_artist_and_track_name(track_uri)\n",
    "print(f\"Artist: {artist_name}, Track: {track_name}\")"
   ]
  },
  {
   "cell_type": "code",
   "execution_count": null,
   "metadata": {},
   "outputs": [],
   "source": [
    "# Function to fetch artist name and track name\n",
    "def get_track_details(uri):\n",
    "    try:\n",
    "        track = sp.track(uri)\n",
    "        artist_name = track['artists'][0]['name'] if track['artists'] else 'Unknown'\n",
    "        track_name = track['name'] if track else 'Unknown'\n",
    "        return artist_name, track_name\n",
    "    except Exception as e:\n",
    "        print(f\"Failed to fetch data for {uri}: {str(e)}\")\n",
    "        return 'Unknown', 'Unknown'\n",
    "    \n",
    "df_lyrics['artist_name'], df_lyrics['track_name'] = zip(*df_lyrics['track_uri'].apply(get_track_details))"
   ]
  },
  {
   "cell_type": "code",
   "execution_count": null,
   "metadata": {},
   "outputs": [],
   "source": [
    "import logging\n",
    "\n",
    "# Setup basic configuration for logging\n",
    "logging.basicConfig(level=logging.INFO, format='%(asctime)s - %(levelname)s - %(message)s')\n",
    "\n",
    "\n",
    "def fetch_track_details(track_uris):\n",
    "    try:\n",
    "        tracks_info = sp.tracks(track_uris)['tracks']\n",
    "        return [(track['artists'][0]['name'] if track['artists'] else 'Unknown', \n",
    "                 track['name'] if track else 'Unknown') for track in tracks_info]\n",
    "    except Exception as e:\n",
    "        print(f\"Failed to process batch: {str(e)}\")\n",
    "        # Return a list of tuples with 'Unknown' values for artist and track names\n",
    "        return [('Unknown', 'Unknown')] * len(track_uris)\n",
    "    \n",
    "batch_size = 50\n",
    "artist_names = []\n",
    "track_names = []\n",
    "\n",
    "# Process in batches\n",
    "for i in range(0, len(df_lyrics['track_uri']), batch_size):\n",
    "    batch_uris = df_lyrics['track_uri'][i:i + batch_size].tolist()\n",
    "    results = fetch_track_details(batch_uris)\n",
    "    artist_names.extend([res[0] for res in results])\n",
    "    track_names.extend([res[1] for res in results])\n",
    "\n",
    "# Add the fetched data to the DataFrame\n",
    "df_lyrics['artist_name'] = artist_names\n",
    "df_lyrics['track_name'] = track_names\n"
   ]
  },
  {
   "cell_type": "code",
   "execution_count": null,
   "metadata": {},
   "outputs": [],
   "source": [
    "def fetch_track_details(track_uris):\n",
    "    try:\n",
    "        tracks_info = sp.tracks(track_uris)['tracks']\n",
    "        return [(track['artists'][0]['name'] if track['artists'] else 'Unknown', \n",
    "                 track['name'] if track else 'Unknown') for track in tracks_info]\n",
    "    except Exception as e:\n",
    "        print(f\"Failed to process batch: {str(e)}\")\n",
    "        return [('Unknown', 'Unknown')] * len(track_uris)\n",
    "\n",
    "# Define batch size and lists to hold data\n",
    "batch_size = 50\n",
    "artist_names = []\n",
    "track_names = []\n",
    "\n",
    "# Process in batches with progress updates and intermittent saving\n",
    "for i in range(0, len(df_lyrics['track_uri']), batch_size):\n",
    "    batch_uris = df_lyrics['track_uri'][i:i + batch_size].tolist()\n",
    "    results = fetch_track_details(batch_uris)\n",
    "    artist_names.extend([res[0] for res in results])\n",
    "    track_names.extend([res[1] for res in results])\n",
    "    print(f\"Processed batch {i//batch_size + 1}/{(len(df_lyrics['track_uri']) + batch_size - 1)//batch_size}\")\n",
    "\n",
    "    # Intermediate save after each batch\n",
    "    if i % 200 == 0:  # Change the condition as needed for more or fewer saves\n",
    "        df_lyrics.loc[i:i+batch_size-1, 'artist_name'] = artist_names[-batch_size:]\n",
    "        df_lyrics.loc[i:i+batch_size-1, 'track_name'] = track_names[-batch_size:]\n",
    "        df_lyrics.to_csv('intermediate_df_lyrics.csv', index=False)\n",
    "        print(\"Intermediate data saved.\")\n",
    "\n",
    "# Add the fetched data to the DataFrame\n",
    "df_lyrics['artist_name'] = artist_names\n",
    "df_lyrics['track_name'] = track_names"
   ]
  },
  {
   "cell_type": "code",
   "execution_count": null,
   "metadata": {},
   "outputs": [],
   "source": [
    "# Apply batch processing\n",
    "batch_size = 50\n",
    "artist_names = []\n",
    "track_names = []\n",
    "\n",
    "for i in range(0, len(df_lyrics['track_uri']), batch_size):\n",
    "    batch_uris = df_lyrics['track_uri'][i:i + batch_size].tolist()\n",
    "    batch_results = fetch_tracks_details(batch_uris)\n",
    "    artist_names.extend([res[0] for res in batch_results])\n",
    "    track_names.extend([res[1] for res in batch_results])\n",
    "\n",
    "df_lyrics['alb_name'] = artist_names\n",
    "df_lyrics['trk_name'] = track_names"
   ]
  },
  {
   "cell_type": "code",
   "execution_count": null,
   "metadata": {},
   "outputs": [],
   "source": [
    "# Save the updated DataFrame\n",
    "df_lyrics.to_csv('df_lyrics_updated.csv', index=False)"
   ]
  }
 ],
 "metadata": {
  "kernelspec": {
   "display_name": ".venv",
   "language": "python",
   "name": "python3"
  },
  "language_info": {
   "codemirror_mode": {
    "name": "ipython",
    "version": 3
   },
   "file_extension": ".py",
   "mimetype": "text/x-python",
   "name": "python",
   "nbconvert_exporter": "python",
   "pygments_lexer": "ipython3",
   "version": "3.11.3"
  }
 },
 "nbformat": 4,
 "nbformat_minor": 2
}
