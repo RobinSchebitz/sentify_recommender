{
 "cells": [
  {
   "cell_type": "markdown",
   "metadata": {},
   "source": [
    "# API Call Genius Lyrics"
   ]
  },
  {
   "cell_type": "code",
   "execution_count": 3,
   "metadata": {},
   "outputs": [],
   "source": [
    "from dotenv import load_dotenv\n",
    "import os\n",
    "import lyricsgenius\n",
    "import pandas as pd\n",
    "import json"
   ]
  },
  {
   "cell_type": "code",
   "execution_count": 77,
   "metadata": {},
   "outputs": [
    {
     "data": {
      "text/plain": [
       "(66243, 3)"
      ]
     },
     "execution_count": 77,
     "metadata": {},
     "output_type": "execute_result"
    }
   ],
   "source": [
    "df = pd.read_csv('clean_spotify_data.csv')\n",
    "df.shape"
   ]
  },
  {
   "cell_type": "code",
   "execution_count": 69,
   "metadata": {},
   "outputs": [],
   "source": [
    "# Calling for Genius API credentials from dotenv file\n",
    "load_dotenv()\n",
    "token = os.getenv(\"genius_token\")\n",
    "genius = lyricsgenius.Genius(token) # Providing token info to access information \n",
    "genius.remove_section_headers = True # Remove section headers (e.g. [Chorus]) from lyrics when searching\n",
    "genius.timeout = 60 # Timeout call for API"
   ]
  },
  {
   "cell_type": "code",
   "execution_count": 75,
   "metadata": {},
   "outputs": [],
   "source": [
    "def process_batch(batch_data):\n",
    "    # Creating an empty DataFrame to store updated data\n",
    "    processed_data = pd.DataFrame(columns=['track_uri', 'artist_name', 'track_name', 'lyrics'])\n",
    "\n",
    "\n",
    "    # Iterating over the batch_data to fetch details from Genius\n",
    "    for i in range(len(batch_data)):\n",
    "        try:\n",
    "            track = genius.search_song(batch_data['track_name'][i], batch_data['artist_name'][i])\n",
    "            processed_data.loc[i, 'track_uri'] = batch_data['track_uri'].iloc[i]\n",
    "            processed_data.loc[i, 'artist_name'] = batch_data['artist_name'].iloc[i]\n",
    "            processed_data.loc[i, 'track_name'] = batch_data['track_name'].iloc[i]\n",
    "            processed_data.loc[i, 'lyrics'] = track.lyrics if track else 'Lyrics not found'\n",
    "\n",
    "            print(i)\n",
    "        except Exception as e:\n",
    "            print(f\"Error processing {batch_data['track_uri'].iloc[i]}: {e}\")\n",
    "    return processed_data"
   ]
  },
  {
   "cell_type": "code",
   "execution_count": 76,
   "metadata": {},
   "outputs": [
    {
     "name": "stdout",
     "output_type": "stream",
     "text": [
      "Searching for \"Little Swing\" by AronChupa...\n",
      "Done.\n",
      "0\n",
      "Searching for \"I'm an Albatraoz\" by AronChupa...\n",
      "Done.\n",
      "1\n",
      "Searching for \"Yellow Flicker Beat \" by Lorde...\n",
      "Done.\n",
      "2\n",
      "Searching for \"White Teeth Teens\" by Lorde...\n",
      "Done.\n",
      "3\n",
      "Searching for \"Team\" by Lorde...\n",
      "Done.\n",
      "4\n",
      "0    22 ContributorsLittle Swing Lyrics\\nHer knees,...\n",
      "1    71 ContributorsI’m an Albatraoz Lyrics\\nMesdam...\n",
      "2    78 ContributorsTranslationsPortuguêsСрпскиFran...\n",
      "3    82 ContributorsTranslationsFrançaisItalianoEsp...\n",
      "4    131 ContributorsTranslationsEspañolFrançaisIta...\n",
      "Name: lyrics, dtype: object\n",
      "Error processing spotify:track:6WQLkih8nE0JdUCEyLaGnQ: 0\n",
      "Error processing spotify:track:37sINbJZcFdHFAsVNsPq1i: 1\n",
      "Error processing spotify:track:0yhPEz5KxlDwckGJaMlZqM: 2\n",
      "Error processing spotify:track:5j9iuo3tMmQIfnEEQOOjxh: 3\n",
      "Error processing spotify:track:4eLSCSELtKxZwXnFbNLXT5: 4\n",
      "Series([], Name: lyrics, dtype: object)\n",
      "Error processing spotify:track:4PvD06Pmbm2rHG2JjSlElF: 0\n",
      "Error processing spotify:track:57nNNkgk768QVXq3uHxu5e: 1\n",
      "Error processing spotify:track:3y8AEUef1AVfr0npU5UOa9: 2\n",
      "Error processing spotify:track:5jJ69cMDMC0aeWPjZo6VP2: 3\n",
      "Error processing spotify:track:02b5L9jExmkRTdUTqXFzmR: 4\n",
      "Series([], Name: lyrics, dtype: object)\n",
      "Error processing spotify:track:6fKEplI9iN0JMHsRGQESaT: 0\n",
      "Error processing spotify:track:3ebXMykcMXOcLeJ9xZ17XH: 1\n",
      "Error processing spotify:track:1J9KJgXKFRqKGIzmJ7GjS3: 2\n",
      "Error processing spotify:track:6aBYg6Npa47VAqtEsLsUdz: 3\n",
      "Error processing spotify:track:0dA2Mk56wEzDgegdC6R17g: 4\n",
      "Series([], Name: lyrics, dtype: object)\n"
     ]
    }
   ],
   "source": [
    "chunk_size = 5\n",
    "csv_file = ('clean_spotify_data.csv')  # Path to input CSV file\n",
    "output_file = ('lyrics_robin.csv')  # Path to save the processed data\n",
    "\n",
    "#start_row = 0 # Adjust row number from which processing needs to be started\n",
    "\n",
    "# Read the CSV file in batches and process each batch\n",
    "for chunk in pd.read_csv(csv_file, chunksize=chunk_size):\n",
    "    processed_chunk = process_batch(chunk)\n",
    "    print(processed_chunk['lyrics'])\n",
    "    # Append each processed chunk to the output file\n",
     
    "    print(processed_chunk)\n",
    "    #processed_chunk.to_csv(output_file, mode=\"a\", header=False, index=False)"
   ]
  },
  {
   "cell_type": "code",
   "execution_count": null,
   "metadata": {},
   "outputs": [],
   "source": [
    "import pandas\n",
    "import lyricsgenius\n",
    "import time\n",
    "\n",
    "genius = lyricsgenius.Genius('your_genius_api_token')\n",
    "genius.remove_section_headers = True\n",
    "\n",
    "# Defining the batches at which to save progress\n",
    "batch_size = 10\n",
    "num_songs = len(spotify_data)\n",
    "\n",
    "# Specify the starting index from where to resume processing\n",
    "start_index = int(input(\"input value here\"))\n",
    "\n",
    "for i in range(start_index, num_songs, batch_size):\n",
    "    end_index = min(i + batch_size, num_songs)\n",
    "\n",
    "    for j in range(i, end_index):\n",
    "        try:\n",
    "            song = genius.search_song(spotify_data.loc[j, 'track_name'], spotify_data.loc[j, 'artist_name'])\n",
    "            spotify_data.loc[j, 'lyrics'] = song.lyrics.replace('\\n', ' ') if song else 'Lyrics not found'\n",
    "        except Exception as e:\n",
    "            print(f\"Error fetching lyrics for index {j}: {e}\")\n",
    "            spotify_data.loc[j, 'lyrics'] = 'Error fetching lyrics'\n",
    "\n",
    "    # Save the DataFrame at regular intervals\n",
    "    spotify_data.to_csv('lyrics_rishabh.csv', index=False)\n",
    "    print(f\"Progress saved up to index {end_index - 1}\")\n",
    "\n",
    "    #time.sleep(10)"
   ]
  },
  {
   "cell_type": "code",
   "execution_count": null,
   "metadata": {},
   "outputs": [],
   "source": [
    "\"\"\" import lyricsgenius\n",
    "\n",
    "# Initialize Genius API with your access token\n",
    "genius = lyricsgenius.Genius('put_your_token_here')\n",
    "genius.remove_section_headers = True  # Optional: remove section headers from lyrics\n",
    "\n",
    "# Specify the song and artist you want to fetch lyrics for\n",
    "song_name = \"DONT trust ME (feat. KIDCUDI)\"  # Example song, replace with your desired song\n",
    "artist_name = \"3OH!3\"  # Example artist, replace with the relevant artist\n",
    "\n",
    "# Fetch the lyrics using Genius\n",
    "song = genius.search_song(song_name, artist_name)\n",
    "lyrics = song.lyrics if song else \"Lyrics not found\"\n",
    "\n",
    "print(f\"Lyrics for '{song_name}' by {artist_name}:\\n{lyrics}\") \"\"\""
=======
    "    processed_chunk.to_csv(output_file, mode=\"a\", header=False, index=False)"

   ]
  }
 ],
 "metadata": {
  "kernelspec": {
   "display_name": ".venv",
   "language": "python",
   "name": "python3"
  },
  "language_info": {
   "codemirror_mode": {
    "name": "ipython",
    "version": 3
   },
   "file_extension": ".py",
   "mimetype": "text/x-python",
   "name": "python",
   "nbconvert_exporter": "python",
   "pygments_lexer": "ipython3",
   "version": "3.11.3"
  }
 },
 "nbformat": 4,
 "nbformat_minor": 2
}
