{
 "cells": [
  {
   "cell_type": "code",
   "execution_count": 3,
   "metadata": {},
   "outputs": [],
   "source": [
    "import pandas as pd\n",
    "import json\n",
    "\n",
    "import numpy as np\n",
    "from sklearn.feature_extraction.text import TfidfVectorizer\n",
    "from sklearn.metrics.pairwise import linear_kernel\n",
    "from sklearn.metrics.pairwise import cosine_similarity\n",
    "from sklearn import preprocessing\n",
    "\n",
    "import polars as po"
   ]
  },
  {
   "cell_type": "code",
   "execution_count": 5,
   "metadata": {},
   "outputs": [],
   "source": [
    "# Load JSON data from file\n",
    "with open('../data/challenge_set.json', 'r') as file: # Replace with local dataset path\n",
    "    data = json.load(file)\n",
    "\n",
    "# Initialize an empty list to collect all track data\n",
    "all_tracks = []\n",
    "\n",
    "# Loop through each playlist in the dataset\n",
    "for playlist in data['playlists']:\n",
    "    for track in playlist['tracks']:\n",
    "        # Add playlist-level information to each track record\n",
    "        track_info = {\n",
    "            'playlist_name': playlist.get('name', 'Unknown'),\n",
    "            'playlist_pid': playlist['pid'],\n",
    "            'playlist_num_tracks': playlist['num_tracks'],\n",
    "            'track_pos': track['pos'],\n",
    "            'artist_name': track['artist_name'],\n",
    "            'track_uri': track['track_uri'],\n",
    "            'artist_uri': track['artist_uri'],\n",
    "            'track_name': track['track_name'],\n",
    "            'album_uri': track['album_uri'],\n",
    "            'duration_ms': track['duration_ms'],\n",
    "            'album_name': track['album_name']\n",
    "        }\n",
    "        all_tracks.append(track_info)\n",
    "\n",
    "# Convert the list of track dictionaries to a DataFrame\n",
    "df_spotify = pd.DataFrame(all_tracks)"
   ]
  },
  {
   "cell_type": "code",
   "execution_count": 6,
   "metadata": {},
   "outputs": [],
   "source": [
    "po_spotify = po.from_pandas(df_spotify)"
   ]
  },
  {
   "cell_type": "markdown",
   "metadata": {},
   "source": [
    "- Remove 'playlist_num_tracks'\n",
    "    - doesn't contain relevant information\n",
    "- Remove IDs or real names to avoid correlation (?) -> if algorithm can't handle correlation\n",
    "- Remove songs with duration of 0\n",
    "- Remove songs longer than 50 minutes\n",
    "- Remove playlists that contain too many non-unique songs (see 'How many unique songs are in a playlist')\n",
    "- Remove very long and very short playlists (see 'Length of playlists') (???)"
   ]
  },
  {
   "cell_type": "code",
   "execution_count": 9,
   "metadata": {},
   "outputs": [
    {
     "name": "stderr",
     "output_type": "stream",
     "text": [
      "/var/folders/1k/jqy_bpj135d4yrnkdj2k_pwc0000gn/T/ipykernel_61138/802771832.py:1: DeprecationWarning: named `columns` param is deprecated; use positional `*args` instead.\n",
      "  po_spotify_features = po_spotify.drop(columns=['playlist_name', 'playlist_num_tracks', 'artist_name', 'track_name', 'album_name'])\n"
     ]
    }
   ],
   "source": [
    "po_spotify_features = po_spotify.drop(columns=['playlist_name', 'playlist_num_tracks', 'artist_name', 'track_name', 'album_name'])\n"
   ]
  },
  {
   "cell_type": "code",
   "execution_count": 10,
   "metadata": {},
   "outputs": [
    {
     "data": {
      "text/html": [
       "<div><style>\n",
       ".dataframe > thead > tr,\n",
       ".dataframe > tbody > tr {\n",
       "  text-align: right;\n",
       "  white-space: pre-wrap;\n",
       "}\n",
       "</style>\n",
       "<small>shape: (281_000, 6)</small><table border=\"1\" class=\"dataframe\"><thead><tr><th>playlist_pid</th><th>track_pos</th><th>track_uri</th><th>artist_uri</th><th>album_uri</th><th>duration_ms</th></tr><tr><td>i64</td><td>i64</td><td>str</td><td>str</td><td>str</td><td>i64</td></tr></thead><tbody><tr><td>1000000</td><td>0</td><td>&quot;spotify:track:66U0ASk1VHZsqIkp…</td><td>&quot;spotify:artist:5vCOdeiQt9LyzdI…</td><td>&quot;spotify:album:4S5MLjwRSi0NJ5ni…</td><td>163809</td></tr><tr><td>1000000</td><td>1</td><td>&quot;spotify:track:5MhsZlmKJG6X5kTH…</td><td>&quot;spotify:artist:5vCOdeiQt9LyzdI…</td><td>&quot;spotify:album:1qHVYbxQ6IS8YRvi…</td><td>166848</td></tr><tr><td>1000000</td><td>2</td><td>&quot;spotify:track:0GZoB8h0kqXn7XFm…</td><td>&quot;spotify:artist:163tK9Wjr9P9DmM…</td><td>&quot;spotify:album:4UEPxQx0cTcYNsE0…</td><td>232506</td></tr><tr><td>1000000</td><td>3</td><td>&quot;spotify:track:35kahykNu00FPysz…</td><td>&quot;spotify:artist:163tK9Wjr9P9DmM…</td><td>&quot;spotify:album:0rmhjUgoVa17LZuS…</td><td>216600</td></tr><tr><td>1000000</td><td>4</td><td>&quot;spotify:track:3G6hD9B2ZHOsgf4W…</td><td>&quot;spotify:artist:163tK9Wjr9P9DmM…</td><td>&quot;spotify:album:0rmhjUgoVa17LZuS…</td><td>193058</td></tr><tr><td>&hellip;</td><td>&hellip;</td><td>&hellip;</td><td>&hellip;</td><td>&hellip;</td><td>&hellip;</td></tr><tr><td>1006767</td><td>0</td><td>&quot;spotify:track:38griAVM808crjbF…</td><td>&quot;spotify:artist:6nnspeopmJAG07x…</td><td>&quot;spotify:album:2QeEEn8jNy5SFx9c…</td><td>339573</td></tr><tr><td>1006771</td><td>0</td><td>&quot;spotify:track:1JClFT74TYSXlzpa…</td><td>&quot;spotify:artist:1ZwdS5xdxEREPyS…</td><td>&quot;spotify:album:3PO9OtQdvCDJN8zD…</td><td>285026</td></tr><tr><td>1006773</td><td>0</td><td>&quot;spotify:track:4InLm5a9Qtkru6Yx…</td><td>&quot;spotify:artist:2Y9lO01ABSO8OkB…</td><td>&quot;spotify:album:5NjFyeZJkYAh5ri9…</td><td>279322</td></tr><tr><td>1006775</td><td>0</td><td>&quot;spotify:track:4hdog9vyyqG9pcpp…</td><td>&quot;spotify:artist:2cFrymmkijnjDg9…</td><td>&quot;spotify:album:1TkwzY3l4LqAfrQw…</td><td>223295</td></tr><tr><td>1006778</td><td>0</td><td>&quot;spotify:track:0NiXXAI876aGImAd…</td><td>&quot;spotify:artist:1HBjj22wzbscIZ9…</td><td>&quot;spotify:album:0zMLyv1kNV2B0LDG…</td><td>181614</td></tr></tbody></table></div>"
      ],
      "text/plain": [
       "shape: (281_000, 6)\n",
       "┌──────────────┬───────────┬───────────────────┬──────────────────┬──────────────────┬─────────────┐\n",
       "│ playlist_pid ┆ track_pos ┆ track_uri         ┆ artist_uri       ┆ album_uri        ┆ duration_ms │\n",
       "│ ---          ┆ ---       ┆ ---               ┆ ---              ┆ ---              ┆ ---         │\n",
       "│ i64          ┆ i64       ┆ str               ┆ str              ┆ str              ┆ i64         │\n",
       "╞══════════════╪═══════════╪═══════════════════╪══════════════════╪══════════════════╪═════════════╡\n",
       "│ 1000000      ┆ 0         ┆ spotify:track:66U ┆ spotify:artist:5 ┆ spotify:album:4S ┆ 163809      │\n",
       "│              ┆           ┆ 0ASk1VHZsqIkp…    ┆ vCOdeiQt9LyzdI…  ┆ 5MLjwRSi0NJ5ni…  ┆             │\n",
       "│ 1000000      ┆ 1         ┆ spotify:track:5Mh ┆ spotify:artist:5 ┆ spotify:album:1q ┆ 166848      │\n",
       "│              ┆           ┆ sZlmKJG6X5kTH…    ┆ vCOdeiQt9LyzdI…  ┆ HVYbxQ6IS8YRvi…  ┆             │\n",
       "│ 1000000      ┆ 2         ┆ spotify:track:0GZ ┆ spotify:artist:1 ┆ spotify:album:4U ┆ 232506      │\n",
       "│              ┆           ┆ oB8h0kqXn7XFm…    ┆ 63tK9Wjr9P9DmM…  ┆ EPxQx0cTcYNsE0…  ┆             │\n",
       "│ 1000000      ┆ 3         ┆ spotify:track:35k ┆ spotify:artist:1 ┆ spotify:album:0r ┆ 216600      │\n",
       "│              ┆           ┆ ahykNu00FPysz…    ┆ 63tK9Wjr9P9DmM…  ┆ mhjUgoVa17LZuS…  ┆             │\n",
       "│ 1000000      ┆ 4         ┆ spotify:track:3G6 ┆ spotify:artist:1 ┆ spotify:album:0r ┆ 193058      │\n",
       "│              ┆           ┆ hD9B2ZHOsgf4W…    ┆ 63tK9Wjr9P9DmM…  ┆ mhjUgoVa17LZuS…  ┆             │\n",
       "│ …            ┆ …         ┆ …                 ┆ …                ┆ …                ┆ …           │\n",
       "│ 1006767      ┆ 0         ┆ spotify:track:38g ┆ spotify:artist:6 ┆ spotify:album:2Q ┆ 339573      │\n",
       "│              ┆           ┆ riAVM808crjbF…    ┆ nnspeopmJAG07x…  ┆ eEEn8jNy5SFx9c…  ┆             │\n",
       "│ 1006771      ┆ 0         ┆ spotify:track:1JC ┆ spotify:artist:1 ┆ spotify:album:3P ┆ 285026      │\n",
       "│              ┆           ┆ lFT74TYSXlzpa…    ┆ ZwdS5xdxEREPyS…  ┆ O9OtQdvCDJN8zD…  ┆             │\n",
       "│ 1006773      ┆ 0         ┆ spotify:track:4In ┆ spotify:artist:2 ┆ spotify:album:5N ┆ 279322      │\n",
       "│              ┆           ┆ Lm5a9Qtkru6Yx…    ┆ Y9lO01ABSO8OkB…  ┆ jFyeZJkYAh5ri9…  ┆             │\n",
       "│ 1006775      ┆ 0         ┆ spotify:track:4hd ┆ spotify:artist:2 ┆ spotify:album:1T ┆ 223295      │\n",
       "│              ┆           ┆ og9vyyqG9pcpp…    ┆ cFrymmkijnjDg9…  ┆ kwzY3l4LqAfrQw…  ┆             │\n",
       "│ 1006778      ┆ 0         ┆ spotify:track:0Ni ┆ spotify:artist:1 ┆ spotify:album:0z ┆ 181614      │\n",
       "│              ┆           ┆ XXAI876aGImAd…    ┆ HBjj22wzbscIZ9…  ┆ MLyv1kNV2B0LDG…  ┆             │\n",
       "└──────────────┴───────────┴───────────────────┴──────────────────┴──────────────────┴─────────────┘"
      ]
     },
     "execution_count": 10,
     "metadata": {},
     "output_type": "execute_result"
    }
   ],
   "source": [
    "po_spotify_features"
   ]
  },
  {
   "cell_type": "code",
   "execution_count": 12,
   "metadata": {},
   "outputs": [],
   "source": [
    "int_features = po_spotify_features[['playlist_pid', 'track_pos', 'duration_ms']]\n",
    "obj_features = po_spotify_features[['track_uri', 'artist_uri', 'album_uri']]"
   ]
  },
  {
   "cell_type": "code",
   "execution_count": 16,
   "metadata": {},
   "outputs": [
    {
     "data": {
      "text/html": [
       "<div><style>\n",
       ".dataframe > thead > tr,\n",
       ".dataframe > tbody > tr {\n",
       "  text-align: right;\n",
       "  white-space: pre-wrap;\n",
       "}\n",
       "</style>\n",
       "<small>shape: (5, 112_710)</small><table border=\"1\" class=\"dataframe\"><thead><tr><th>track_uri_spotify:track:000xQL6tZNLJzIrtIgxqSl</th><th>track_uri_spotify:track:0010mZpCCwlPwoBiBsjoac</th><th>track_uri_spotify:track:001m5KK2fu67yZ5ZW46LDZ</th><th>track_uri_spotify:track:0032P9X3AD4AQvN7yzpmTo</th><th>track_uri_spotify:track:004XT7kCZUEJkVIZjmBdDi</th><th>track_uri_spotify:track:004skCQeDn1iLntSom0rRr</th><th>track_uri_spotify:track:00598GIAcfDDzqccjZ4u44</th><th>track_uri_spotify:track:005GaX6hvgeTFnR9FvejTE</th><th>track_uri_spotify:track:005X0FmdtkM1kiutosXLTR</th><th>track_uri_spotify:track:0062tddXmdVQgX1mMjVKUR</th><th>track_uri_spotify:track:0069UNfEXsA1853CA0C6es</th><th>track_uri_spotify:track:006AVH7fq061voGXkUiII4</th><th>track_uri_spotify:track:006f4XC6oHnIKCYvlI5gbD</th><th>track_uri_spotify:track:006r3Kh3rjAW6WgkSPTMzC</th><th>track_uri_spotify:track:006yrnQMCZpiUgkR612gC8</th><th>track_uri_spotify:track:007SutdC0rVG2CSkuQMtJw</th><th>track_uri_spotify:track:007iY6FDvlAwN1DVlNo8rY</th><th>track_uri_spotify:track:009n0zqtbcRTL7T4TiGf41</th><th>track_uri_spotify:track:00ANnYctEGGhcmOJ5omaj8</th><th>track_uri_spotify:track:00AivYmu1UVmxM91uhR9lM</th><th>track_uri_spotify:track:00AxNl4D4jHL2AEf1W55j5</th><th>track_uri_spotify:track:00BHe2yBtdOzhKPmI7rpTE</th><th>track_uri_spotify:track:00BnfL75e8vHSGCmwUWbEk</th><th>track_uri_spotify:track:00BuKLSAFkaEkaVAgIMbeA</th><th>track_uri_spotify:track:00Bxugv8RqOqHRjOpQywzP</th><th>track_uri_spotify:track:00Ci0EXS4fNPnkTbS6wkOh</th><th>track_uri_spotify:track:00CmjeeHvAVKvx3tcIiZTy</th><th>track_uri_spotify:track:00CqEmnPLFKDhAb3cuu6Cs</th><th>track_uri_spotify:track:00CrtqaRkCyFjY1yiSYJWo</th><th>track_uri_spotify:track:00DYRuYJQzfI6dH4Adkimo</th><th>track_uri_spotify:track:00DdfpIoie5he0IVzNxUrh</th><th>track_uri_spotify:track:00FROhC5g4iJdax5US8jRr</th><th>track_uri_spotify:track:00FWuEBvnitgpbMSk0XIoN</th><th>track_uri_spotify:track:00FaBIFXUfzaaVcsQmTTJY</th><th>track_uri_spotify:track:00GbymcwhRn9Xgr6BZLy2C</th><th>track_uri_spotify:track:00Gk1t8qi6zcWNeCJgh7GO</th><th>track_uri_spotify:track:00Go3gWOIVO7blYdzztuzf</th><th>&hellip;</th><th>album_uri_spotify:album:7zSqj9Mp9kc38v3Fiynoog</th><th>album_uri_spotify:album:7zT0DG3Lp6XIKBq7IWD3Nx</th><th>album_uri_spotify:album:7zTgzvexSIq11gZdx7xf21</th><th>album_uri_spotify:album:7zTlfidBmhUVtUmLSKk7WF</th><th>album_uri_spotify:album:7zU9CV77oLw9bpNmTsK8J1</th><th>album_uri_spotify:album:7zUBqTWtQ8TtKuXjVpLKvg</th><th>album_uri_spotify:album:7zURSbIVZ5vl3NIKkrVRvl</th><th>album_uri_spotify:album:7zVMOFzJOtIURZARFnVHFS</th><th>album_uri_spotify:album:7zW5IaveXyKkf5G8dnBgCW</th><th>album_uri_spotify:album:7zWf7SM34SbtjsGF8s5khN</th><th>album_uri_spotify:album:7za8qVGR3wUEJ01pLFcnPB</th><th>album_uri_spotify:album:7zbCgH5GJiEz29ZBzptDmL</th><th>album_uri_spotify:album:7zbMCm1kkmioa3Je5PGRnD</th><th>album_uri_spotify:album:7zbPztRhDnCJfShVXL2F8C</th><th>album_uri_spotify:album:7zcUlBQGskzXp3R7cWLfnt</th><th>album_uri_spotify:album:7zcYkWLSiRRuKHYY14xkGk</th><th>album_uri_spotify:album:7zcfIpDB1ScsABjule7P5f</th><th>album_uri_spotify:album:7zclfiIpH7aSuKrFrBvl1G</th><th>album_uri_spotify:album:7zdZNXoapFcOW663zgLdOE</th><th>album_uri_spotify:album:7zduRJgS6v79QmNUhKGozu</th><th>album_uri_spotify:album:7zesXMFikT4DdgkklIk3Jz</th><th>album_uri_spotify:album:7zf9kyxc3ZhJv79HrjTRir</th><th>album_uri_spotify:album:7zfyys4Or3HXPmGggCrDUY</th><th>album_uri_spotify:album:7zg9ZSOQtYLjWnvSawflg6</th><th>album_uri_spotify:album:7zgtqJ8N4kggXPQYglk3Ao</th><th>album_uri_spotify:album:7zjlLGWtmj6BCqwEyacb5z</th><th>album_uri_spotify:album:7zlMxh1NR0Shklu48L4e7x</th><th>album_uri_spotify:album:7zlwNuZ06nWHXvP22SOxMY</th><th>album_uri_spotify:album:7zmPJBzQw5k4tNN8Sxa0kp</th><th>album_uri_spotify:album:7zo6mfeFrwM2mMaV419UZr</th><th>album_uri_spotify:album:7zoQtXc7TUyHnmaC6LtjEe</th><th>album_uri_spotify:album:7zqKiMaDUYQLfoLg9uyTh6</th><th>album_uri_spotify:album:7zrqMfgjuapqMGQXUmToLW</th><th>album_uri_spotify:album:7zsKY6zTPig9e02bCn6uTY</th><th>album_uri_spotify:album:7zuqkqhGkTH3PSdywhLgY4</th><th>album_uri_spotify:album:7zxfQk44mX0eW4eWtdDlKI</th><th>album_uri_spotify:album:7zzDtMTKGpX0TrPQpLCLLr</th></tr><tr><td>u8</td><td>u8</td><td>u8</td><td>u8</td><td>u8</td><td>u8</td><td>u8</td><td>u8</td><td>u8</td><td>u8</td><td>u8</td><td>u8</td><td>u8</td><td>u8</td><td>u8</td><td>u8</td><td>u8</td><td>u8</td><td>u8</td><td>u8</td><td>u8</td><td>u8</td><td>u8</td><td>u8</td><td>u8</td><td>u8</td><td>u8</td><td>u8</td><td>u8</td><td>u8</td><td>u8</td><td>u8</td><td>u8</td><td>u8</td><td>u8</td><td>u8</td><td>u8</td><td>&hellip;</td><td>u8</td><td>u8</td><td>u8</td><td>u8</td><td>u8</td><td>u8</td><td>u8</td><td>u8</td><td>u8</td><td>u8</td><td>u8</td><td>u8</td><td>u8</td><td>u8</td><td>u8</td><td>u8</td><td>u8</td><td>u8</td><td>u8</td><td>u8</td><td>u8</td><td>u8</td><td>u8</td><td>u8</td><td>u8</td><td>u8</td><td>u8</td><td>u8</td><td>u8</td><td>u8</td><td>u8</td><td>u8</td><td>u8</td><td>u8</td><td>u8</td><td>u8</td><td>u8</td></tr></thead><tbody><tr><td>0</td><td>0</td><td>0</td><td>0</td><td>0</td><td>0</td><td>0</td><td>0</td><td>0</td><td>0</td><td>0</td><td>0</td><td>0</td><td>0</td><td>0</td><td>0</td><td>0</td><td>0</td><td>0</td><td>0</td><td>0</td><td>0</td><td>0</td><td>0</td><td>0</td><td>0</td><td>0</td><td>0</td><td>0</td><td>0</td><td>0</td><td>0</td><td>0</td><td>0</td><td>0</td><td>0</td><td>0</td><td>&hellip;</td><td>0</td><td>0</td><td>0</td><td>0</td><td>0</td><td>0</td><td>0</td><td>0</td><td>0</td><td>0</td><td>0</td><td>0</td><td>0</td><td>0</td><td>0</td><td>0</td><td>0</td><td>0</td><td>0</td><td>0</td><td>0</td><td>0</td><td>0</td><td>0</td><td>0</td><td>0</td><td>0</td><td>0</td><td>0</td><td>0</td><td>0</td><td>0</td><td>0</td><td>0</td><td>0</td><td>0</td><td>0</td></tr><tr><td>0</td><td>0</td><td>0</td><td>0</td><td>0</td><td>0</td><td>0</td><td>0</td><td>0</td><td>0</td><td>0</td><td>0</td><td>0</td><td>0</td><td>0</td><td>0</td><td>0</td><td>0</td><td>0</td><td>0</td><td>0</td><td>0</td><td>0</td><td>0</td><td>0</td><td>0</td><td>0</td><td>0</td><td>0</td><td>0</td><td>0</td><td>0</td><td>0</td><td>0</td><td>0</td><td>0</td><td>0</td><td>&hellip;</td><td>0</td><td>0</td><td>0</td><td>0</td><td>0</td><td>0</td><td>0</td><td>0</td><td>0</td><td>0</td><td>0</td><td>0</td><td>0</td><td>0</td><td>0</td><td>0</td><td>0</td><td>0</td><td>0</td><td>0</td><td>0</td><td>0</td><td>0</td><td>0</td><td>0</td><td>0</td><td>0</td><td>0</td><td>0</td><td>0</td><td>0</td><td>0</td><td>0</td><td>0</td><td>0</td><td>0</td><td>0</td></tr><tr><td>0</td><td>0</td><td>0</td><td>0</td><td>0</td><td>0</td><td>0</td><td>0</td><td>0</td><td>0</td><td>0</td><td>0</td><td>0</td><td>0</td><td>0</td><td>0</td><td>0</td><td>0</td><td>0</td><td>0</td><td>0</td><td>0</td><td>0</td><td>0</td><td>0</td><td>0</td><td>0</td><td>0</td><td>0</td><td>0</td><td>0</td><td>0</td><td>0</td><td>0</td><td>0</td><td>0</td><td>0</td><td>&hellip;</td><td>0</td><td>0</td><td>0</td><td>0</td><td>0</td><td>0</td><td>0</td><td>0</td><td>0</td><td>0</td><td>0</td><td>0</td><td>0</td><td>0</td><td>0</td><td>0</td><td>0</td><td>0</td><td>0</td><td>0</td><td>0</td><td>0</td><td>0</td><td>0</td><td>0</td><td>0</td><td>0</td><td>0</td><td>0</td><td>0</td><td>0</td><td>0</td><td>0</td><td>0</td><td>0</td><td>0</td><td>0</td></tr><tr><td>0</td><td>0</td><td>0</td><td>0</td><td>0</td><td>0</td><td>0</td><td>0</td><td>0</td><td>0</td><td>0</td><td>0</td><td>0</td><td>0</td><td>0</td><td>0</td><td>0</td><td>0</td><td>0</td><td>0</td><td>0</td><td>0</td><td>0</td><td>0</td><td>0</td><td>0</td><td>0</td><td>0</td><td>0</td><td>0</td><td>0</td><td>0</td><td>0</td><td>0</td><td>0</td><td>0</td><td>0</td><td>&hellip;</td><td>0</td><td>0</td><td>0</td><td>0</td><td>0</td><td>0</td><td>0</td><td>0</td><td>0</td><td>0</td><td>0</td><td>0</td><td>0</td><td>0</td><td>0</td><td>0</td><td>0</td><td>0</td><td>0</td><td>0</td><td>0</td><td>0</td><td>0</td><td>0</td><td>0</td><td>0</td><td>0</td><td>0</td><td>0</td><td>0</td><td>0</td><td>0</td><td>0</td><td>0</td><td>0</td><td>0</td><td>0</td></tr><tr><td>0</td><td>0</td><td>0</td><td>0</td><td>0</td><td>0</td><td>0</td><td>0</td><td>0</td><td>0</td><td>0</td><td>0</td><td>0</td><td>0</td><td>0</td><td>0</td><td>0</td><td>0</td><td>0</td><td>0</td><td>0</td><td>0</td><td>0</td><td>0</td><td>0</td><td>0</td><td>0</td><td>0</td><td>0</td><td>0</td><td>0</td><td>0</td><td>0</td><td>0</td><td>0</td><td>0</td><td>0</td><td>&hellip;</td><td>0</td><td>0</td><td>0</td><td>0</td><td>0</td><td>0</td><td>0</td><td>0</td><td>0</td><td>0</td><td>0</td><td>0</td><td>0</td><td>0</td><td>0</td><td>0</td><td>0</td><td>0</td><td>0</td><td>0</td><td>0</td><td>0</td><td>0</td><td>0</td><td>0</td><td>0</td><td>0</td><td>0</td><td>0</td><td>0</td><td>0</td><td>0</td><td>0</td><td>0</td><td>0</td><td>0</td><td>0</td></tr></tbody></table></div>"
      ],
      "text/plain": [
       "shape: (5, 112_710)\n",
       "┌───────────┬───────────┬───────────┬───────────┬───┬───────────┬───────────┬───────────┬──────────┐\n",
       "│ track_uri ┆ track_uri ┆ track_uri ┆ track_uri ┆ … ┆ album_uri ┆ album_uri ┆ album_uri ┆ album_ur │\n",
       "│ _spotify: ┆ _spotify: ┆ _spotify: ┆ _spotify: ┆   ┆ _spotify: ┆ _spotify: ┆ _spotify: ┆ i_spotif │\n",
       "│ track:000 ┆ track:001 ┆ track:001 ┆ track:003 ┆   ┆ album:7zs ┆ album:7zu ┆ album:7zx ┆ y:album: │\n",
       "│ xQL…      ┆ 0mZ…      ┆ m5K…      ┆ 2P9…      ┆   ┆ KY6…      ┆ qkq…      ┆ fQk…      ┆ 7zzDtM…  │\n",
       "│ ---       ┆ ---       ┆ ---       ┆ ---       ┆   ┆ ---       ┆ ---       ┆ ---       ┆ ---      │\n",
       "│ u8        ┆ u8        ┆ u8        ┆ u8        ┆   ┆ u8        ┆ u8        ┆ u8        ┆ u8       │\n",
       "╞═══════════╪═══════════╪═══════════╪═══════════╪═══╪═══════════╪═══════════╪═══════════╪══════════╡\n",
       "│ 0         ┆ 0         ┆ 0         ┆ 0         ┆ … ┆ 0         ┆ 0         ┆ 0         ┆ 0        │\n",
       "│ 0         ┆ 0         ┆ 0         ┆ 0         ┆ … ┆ 0         ┆ 0         ┆ 0         ┆ 0        │\n",
       "│ 0         ┆ 0         ┆ 0         ┆ 0         ┆ … ┆ 0         ┆ 0         ┆ 0         ┆ 0        │\n",
       "│ 0         ┆ 0         ┆ 0         ┆ 0         ┆ … ┆ 0         ┆ 0         ┆ 0         ┆ 0        │\n",
       "│ 0         ┆ 0         ┆ 0         ┆ 0         ┆ … ┆ 0         ┆ 0         ┆ 0         ┆ 0        │\n",
       "└───────────┴───────────┴───────────┴───────────┴───┴───────────┴───────────┴───────────┴──────────┘"
      ]
     },
     "execution_count": 16,
     "metadata": {},
     "output_type": "execute_result"
    }
   ],
   "source": [
    "df_vectorized = obj_features.to_dummies()\n",
    "df_vectorized.head()"
   ]
  },
  {
   "cell_type": "code",
   "execution_count": 20,
   "metadata": {},
   "outputs": [
    {
     "data": {
      "text/html": [
       "<div><style>\n",
       ".dataframe > thead > tr,\n",
       ".dataframe > tbody > tr {\n",
       "  text-align: right;\n",
       "  white-space: pre-wrap;\n",
       "}\n",
       "</style>\n",
       "<small>shape: (5, 112_713)</small><table border=\"1\" class=\"dataframe\"><thead><tr><th>playlist_pid</th><th>track_pos</th><th>duration_ms</th><th>track_uri_spotify:track:000xQL6tZNLJzIrtIgxqSl</th><th>track_uri_spotify:track:0010mZpCCwlPwoBiBsjoac</th><th>track_uri_spotify:track:001m5KK2fu67yZ5ZW46LDZ</th><th>track_uri_spotify:track:0032P9X3AD4AQvN7yzpmTo</th><th>track_uri_spotify:track:004XT7kCZUEJkVIZjmBdDi</th><th>track_uri_spotify:track:004skCQeDn1iLntSom0rRr</th><th>track_uri_spotify:track:00598GIAcfDDzqccjZ4u44</th><th>track_uri_spotify:track:005GaX6hvgeTFnR9FvejTE</th><th>track_uri_spotify:track:005X0FmdtkM1kiutosXLTR</th><th>track_uri_spotify:track:0062tddXmdVQgX1mMjVKUR</th><th>track_uri_spotify:track:0069UNfEXsA1853CA0C6es</th><th>track_uri_spotify:track:006AVH7fq061voGXkUiII4</th><th>track_uri_spotify:track:006f4XC6oHnIKCYvlI5gbD</th><th>track_uri_spotify:track:006r3Kh3rjAW6WgkSPTMzC</th><th>track_uri_spotify:track:006yrnQMCZpiUgkR612gC8</th><th>track_uri_spotify:track:007SutdC0rVG2CSkuQMtJw</th><th>track_uri_spotify:track:007iY6FDvlAwN1DVlNo8rY</th><th>track_uri_spotify:track:009n0zqtbcRTL7T4TiGf41</th><th>track_uri_spotify:track:00ANnYctEGGhcmOJ5omaj8</th><th>track_uri_spotify:track:00AivYmu1UVmxM91uhR9lM</th><th>track_uri_spotify:track:00AxNl4D4jHL2AEf1W55j5</th><th>track_uri_spotify:track:00BHe2yBtdOzhKPmI7rpTE</th><th>track_uri_spotify:track:00BnfL75e8vHSGCmwUWbEk</th><th>track_uri_spotify:track:00BuKLSAFkaEkaVAgIMbeA</th><th>track_uri_spotify:track:00Bxugv8RqOqHRjOpQywzP</th><th>track_uri_spotify:track:00Ci0EXS4fNPnkTbS6wkOh</th><th>track_uri_spotify:track:00CmjeeHvAVKvx3tcIiZTy</th><th>track_uri_spotify:track:00CqEmnPLFKDhAb3cuu6Cs</th><th>track_uri_spotify:track:00CrtqaRkCyFjY1yiSYJWo</th><th>track_uri_spotify:track:00DYRuYJQzfI6dH4Adkimo</th><th>track_uri_spotify:track:00DdfpIoie5he0IVzNxUrh</th><th>track_uri_spotify:track:00FROhC5g4iJdax5US8jRr</th><th>track_uri_spotify:track:00FWuEBvnitgpbMSk0XIoN</th><th>track_uri_spotify:track:00FaBIFXUfzaaVcsQmTTJY</th><th>&hellip;</th><th>album_uri_spotify:album:7zSqj9Mp9kc38v3Fiynoog</th><th>album_uri_spotify:album:7zT0DG3Lp6XIKBq7IWD3Nx</th><th>album_uri_spotify:album:7zTgzvexSIq11gZdx7xf21</th><th>album_uri_spotify:album:7zTlfidBmhUVtUmLSKk7WF</th><th>album_uri_spotify:album:7zU9CV77oLw9bpNmTsK8J1</th><th>album_uri_spotify:album:7zUBqTWtQ8TtKuXjVpLKvg</th><th>album_uri_spotify:album:7zURSbIVZ5vl3NIKkrVRvl</th><th>album_uri_spotify:album:7zVMOFzJOtIURZARFnVHFS</th><th>album_uri_spotify:album:7zW5IaveXyKkf5G8dnBgCW</th><th>album_uri_spotify:album:7zWf7SM34SbtjsGF8s5khN</th><th>album_uri_spotify:album:7za8qVGR3wUEJ01pLFcnPB</th><th>album_uri_spotify:album:7zbCgH5GJiEz29ZBzptDmL</th><th>album_uri_spotify:album:7zbMCm1kkmioa3Je5PGRnD</th><th>album_uri_spotify:album:7zbPztRhDnCJfShVXL2F8C</th><th>album_uri_spotify:album:7zcUlBQGskzXp3R7cWLfnt</th><th>album_uri_spotify:album:7zcYkWLSiRRuKHYY14xkGk</th><th>album_uri_spotify:album:7zcfIpDB1ScsABjule7P5f</th><th>album_uri_spotify:album:7zclfiIpH7aSuKrFrBvl1G</th><th>album_uri_spotify:album:7zdZNXoapFcOW663zgLdOE</th><th>album_uri_spotify:album:7zduRJgS6v79QmNUhKGozu</th><th>album_uri_spotify:album:7zesXMFikT4DdgkklIk3Jz</th><th>album_uri_spotify:album:7zf9kyxc3ZhJv79HrjTRir</th><th>album_uri_spotify:album:7zfyys4Or3HXPmGggCrDUY</th><th>album_uri_spotify:album:7zg9ZSOQtYLjWnvSawflg6</th><th>album_uri_spotify:album:7zgtqJ8N4kggXPQYglk3Ao</th><th>album_uri_spotify:album:7zjlLGWtmj6BCqwEyacb5z</th><th>album_uri_spotify:album:7zlMxh1NR0Shklu48L4e7x</th><th>album_uri_spotify:album:7zlwNuZ06nWHXvP22SOxMY</th><th>album_uri_spotify:album:7zmPJBzQw5k4tNN8Sxa0kp</th><th>album_uri_spotify:album:7zo6mfeFrwM2mMaV419UZr</th><th>album_uri_spotify:album:7zoQtXc7TUyHnmaC6LtjEe</th><th>album_uri_spotify:album:7zqKiMaDUYQLfoLg9uyTh6</th><th>album_uri_spotify:album:7zrqMfgjuapqMGQXUmToLW</th><th>album_uri_spotify:album:7zsKY6zTPig9e02bCn6uTY</th><th>album_uri_spotify:album:7zuqkqhGkTH3PSdywhLgY4</th><th>album_uri_spotify:album:7zxfQk44mX0eW4eWtdDlKI</th><th>album_uri_spotify:album:7zzDtMTKGpX0TrPQpLCLLr</th></tr><tr><td>i64</td><td>i64</td><td>i64</td><td>u8</td><td>u8</td><td>u8</td><td>u8</td><td>u8</td><td>u8</td><td>u8</td><td>u8</td><td>u8</td><td>u8</td><td>u8</td><td>u8</td><td>u8</td><td>u8</td><td>u8</td><td>u8</td><td>u8</td><td>u8</td><td>u8</td><td>u8</td><td>u8</td><td>u8</td><td>u8</td><td>u8</td><td>u8</td><td>u8</td><td>u8</td><td>u8</td><td>u8</td><td>u8</td><td>u8</td><td>u8</td><td>u8</td><td>u8</td><td>&hellip;</td><td>u8</td><td>u8</td><td>u8</td><td>u8</td><td>u8</td><td>u8</td><td>u8</td><td>u8</td><td>u8</td><td>u8</td><td>u8</td><td>u8</td><td>u8</td><td>u8</td><td>u8</td><td>u8</td><td>u8</td><td>u8</td><td>u8</td><td>u8</td><td>u8</td><td>u8</td><td>u8</td><td>u8</td><td>u8</td><td>u8</td><td>u8</td><td>u8</td><td>u8</td><td>u8</td><td>u8</td><td>u8</td><td>u8</td><td>u8</td><td>u8</td><td>u8</td><td>u8</td></tr></thead><tbody><tr><td>1000000</td><td>0</td><td>163809</td><td>0</td><td>0</td><td>0</td><td>0</td><td>0</td><td>0</td><td>0</td><td>0</td><td>0</td><td>0</td><td>0</td><td>0</td><td>0</td><td>0</td><td>0</td><td>0</td><td>0</td><td>0</td><td>0</td><td>0</td><td>0</td><td>0</td><td>0</td><td>0</td><td>0</td><td>0</td><td>0</td><td>0</td><td>0</td><td>0</td><td>0</td><td>0</td><td>0</td><td>0</td><td>&hellip;</td><td>0</td><td>0</td><td>0</td><td>0</td><td>0</td><td>0</td><td>0</td><td>0</td><td>0</td><td>0</td><td>0</td><td>0</td><td>0</td><td>0</td><td>0</td><td>0</td><td>0</td><td>0</td><td>0</td><td>0</td><td>0</td><td>0</td><td>0</td><td>0</td><td>0</td><td>0</td><td>0</td><td>0</td><td>0</td><td>0</td><td>0</td><td>0</td><td>0</td><td>0</td><td>0</td><td>0</td><td>0</td></tr><tr><td>1000000</td><td>1</td><td>166848</td><td>0</td><td>0</td><td>0</td><td>0</td><td>0</td><td>0</td><td>0</td><td>0</td><td>0</td><td>0</td><td>0</td><td>0</td><td>0</td><td>0</td><td>0</td><td>0</td><td>0</td><td>0</td><td>0</td><td>0</td><td>0</td><td>0</td><td>0</td><td>0</td><td>0</td><td>0</td><td>0</td><td>0</td><td>0</td><td>0</td><td>0</td><td>0</td><td>0</td><td>0</td><td>&hellip;</td><td>0</td><td>0</td><td>0</td><td>0</td><td>0</td><td>0</td><td>0</td><td>0</td><td>0</td><td>0</td><td>0</td><td>0</td><td>0</td><td>0</td><td>0</td><td>0</td><td>0</td><td>0</td><td>0</td><td>0</td><td>0</td><td>0</td><td>0</td><td>0</td><td>0</td><td>0</td><td>0</td><td>0</td><td>0</td><td>0</td><td>0</td><td>0</td><td>0</td><td>0</td><td>0</td><td>0</td><td>0</td></tr><tr><td>1000000</td><td>2</td><td>232506</td><td>0</td><td>0</td><td>0</td><td>0</td><td>0</td><td>0</td><td>0</td><td>0</td><td>0</td><td>0</td><td>0</td><td>0</td><td>0</td><td>0</td><td>0</td><td>0</td><td>0</td><td>0</td><td>0</td><td>0</td><td>0</td><td>0</td><td>0</td><td>0</td><td>0</td><td>0</td><td>0</td><td>0</td><td>0</td><td>0</td><td>0</td><td>0</td><td>0</td><td>0</td><td>&hellip;</td><td>0</td><td>0</td><td>0</td><td>0</td><td>0</td><td>0</td><td>0</td><td>0</td><td>0</td><td>0</td><td>0</td><td>0</td><td>0</td><td>0</td><td>0</td><td>0</td><td>0</td><td>0</td><td>0</td><td>0</td><td>0</td><td>0</td><td>0</td><td>0</td><td>0</td><td>0</td><td>0</td><td>0</td><td>0</td><td>0</td><td>0</td><td>0</td><td>0</td><td>0</td><td>0</td><td>0</td><td>0</td></tr><tr><td>1000000</td><td>3</td><td>216600</td><td>0</td><td>0</td><td>0</td><td>0</td><td>0</td><td>0</td><td>0</td><td>0</td><td>0</td><td>0</td><td>0</td><td>0</td><td>0</td><td>0</td><td>0</td><td>0</td><td>0</td><td>0</td><td>0</td><td>0</td><td>0</td><td>0</td><td>0</td><td>0</td><td>0</td><td>0</td><td>0</td><td>0</td><td>0</td><td>0</td><td>0</td><td>0</td><td>0</td><td>0</td><td>&hellip;</td><td>0</td><td>0</td><td>0</td><td>0</td><td>0</td><td>0</td><td>0</td><td>0</td><td>0</td><td>0</td><td>0</td><td>0</td><td>0</td><td>0</td><td>0</td><td>0</td><td>0</td><td>0</td><td>0</td><td>0</td><td>0</td><td>0</td><td>0</td><td>0</td><td>0</td><td>0</td><td>0</td><td>0</td><td>0</td><td>0</td><td>0</td><td>0</td><td>0</td><td>0</td><td>0</td><td>0</td><td>0</td></tr><tr><td>1000000</td><td>4</td><td>193058</td><td>0</td><td>0</td><td>0</td><td>0</td><td>0</td><td>0</td><td>0</td><td>0</td><td>0</td><td>0</td><td>0</td><td>0</td><td>0</td><td>0</td><td>0</td><td>0</td><td>0</td><td>0</td><td>0</td><td>0</td><td>0</td><td>0</td><td>0</td><td>0</td><td>0</td><td>0</td><td>0</td><td>0</td><td>0</td><td>0</td><td>0</td><td>0</td><td>0</td><td>0</td><td>&hellip;</td><td>0</td><td>0</td><td>0</td><td>0</td><td>0</td><td>0</td><td>0</td><td>0</td><td>0</td><td>0</td><td>0</td><td>0</td><td>0</td><td>0</td><td>0</td><td>0</td><td>0</td><td>0</td><td>0</td><td>0</td><td>0</td><td>0</td><td>0</td><td>0</td><td>0</td><td>0</td><td>0</td><td>0</td><td>0</td><td>0</td><td>0</td><td>0</td><td>0</td><td>0</td><td>0</td><td>0</td><td>0</td></tr></tbody></table></div>"
      ],
      "text/plain": [
       "shape: (5, 112_713)\n",
       "┌───────────┬───────────┬───────────┬───────────┬───┬───────────┬───────────┬───────────┬──────────┐\n",
       "│ playlist_ ┆ track_pos ┆ duration_ ┆ track_uri ┆ … ┆ album_uri ┆ album_uri ┆ album_uri ┆ album_ur │\n",
       "│ pid       ┆ ---       ┆ ms        ┆ _spotify: ┆   ┆ _spotify: ┆ _spotify: ┆ _spotify: ┆ i_spotif │\n",
       "│ ---       ┆ i64       ┆ ---       ┆ track:000 ┆   ┆ album:7zs ┆ album:7zu ┆ album:7zx ┆ y:album: │\n",
       "│ i64       ┆           ┆ i64       ┆ xQL…      ┆   ┆ KY6…      ┆ qkq…      ┆ fQk…      ┆ 7zzDtM…  │\n",
       "│           ┆           ┆           ┆ ---       ┆   ┆ ---       ┆ ---       ┆ ---       ┆ ---      │\n",
       "│           ┆           ┆           ┆ u8        ┆   ┆ u8        ┆ u8        ┆ u8        ┆ u8       │\n",
       "╞═══════════╪═══════════╪═══════════╪═══════════╪═══╪═══════════╪═══════════╪═══════════╪══════════╡\n",
       "│ 1000000   ┆ 0         ┆ 163809    ┆ 0         ┆ … ┆ 0         ┆ 0         ┆ 0         ┆ 0        │\n",
       "│ 1000000   ┆ 1         ┆ 166848    ┆ 0         ┆ … ┆ 0         ┆ 0         ┆ 0         ┆ 0        │\n",
       "│ 1000000   ┆ 2         ┆ 232506    ┆ 0         ┆ … ┆ 0         ┆ 0         ┆ 0         ┆ 0        │\n",
       "│ 1000000   ┆ 3         ┆ 216600    ┆ 0         ┆ … ┆ 0         ┆ 0         ┆ 0         ┆ 0        │\n",
       "│ 1000000   ┆ 4         ┆ 193058    ┆ 0         ┆ … ┆ 0         ┆ 0         ┆ 0         ┆ 0        │\n",
       "└───────────┴───────────┴───────────┴───────────┴───┴───────────┴───────────┴───────────┴──────────┘"
      ]
     },
     "execution_count": 20,
     "metadata": {},
     "output_type": "execute_result"
    }
   ],
   "source": [
    "df_vectorized = po.concat([int_features, df_vectorized], how='horizontal')\n",
    "df_vectorized.head()"
   ]
  },
  {
   "cell_type": "code",
   "execution_count": 11,
   "metadata": {},
   "outputs": [],
   "source": [
    "#cosine_sim_sk = pd.DataFrame(cosine_similarity(df_vectorized))"
   ]
  },
  {
   "cell_type": "code",
   "execution_count": null,
   "metadata": {},
   "outputs": [
    {
     "ename": "",
     "evalue": "",
     "output_type": "error",
     "traceback": [
      "\u001b[1;31mDer Kernel ist beim Ausführen von Code in der aktuellen Zelle oder einer vorherigen Zelle abgestürzt. \n",
      "\u001b[1;31mBitte überprüfen Sie den Code in der/den Zelle(n), um eine mögliche Fehlerursache zu identifizieren. \n",
      "\u001b[1;31mKlicken Sie <a href='https://aka.ms/vscodeJupyterKernelCrash'>hier</a>, um weitere Informationen zu erhalten. \n",
      "\u001b[1;31mWeitere Informationen finden Sie unter Jupyter <a href='command:jupyter.viewOutput'>Protokoll</a>."
     ]
    }
   ],
   "source": [
    "cosine_sim_sk = po.DataFrame(cosine_similarity(df_vectorized))"
   ]
  },
  {
   "cell_type": "code",
   "execution_count": null,
   "metadata": {},
   "outputs": [],
   "source": []
  }
 ],
 "metadata": {
  "kernelspec": {
   "display_name": ".venv",
   "language": "python",
   "name": "python3"
  },
  "language_info": {
   "codemirror_mode": {
    "name": "ipython",
    "version": 3
   },
   "file_extension": ".py",
   "mimetype": "text/x-python",
   "name": "python",
   "nbconvert_exporter": "python",
   "pygments_lexer": "ipython3",
   "version": "3.11.3"
  }
 },
 "nbformat": 4,
 "nbformat_minor": 2
}
