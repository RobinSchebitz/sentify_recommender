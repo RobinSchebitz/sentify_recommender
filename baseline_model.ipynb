{
 "cells": [
  {
   "cell_type": "markdown",
   "metadata": {},
   "source": [
    "### Creating Baseline Model"
   ]
  },
  {
   "cell_type": "code",
   "execution_count": 2,
   "metadata": {},
   "outputs": [],
   "source": [
    "import pandas as pd\n",
    "import json\n",
    "\n",
    "#import missingno as msno\n",
    "\n",
    "import matplotlib.pyplot as plt\n",
    "import numpy as np\n",
    "import seaborn as sns"
   ]
  },
  {
   "cell_type": "code",
   "execution_count": 3,
   "metadata": {},
   "outputs": [
    {
     "name": "stdout",
     "output_type": "stream",
     "text": [
      "(281000, 11)\n"
     ]
    }
   ],
   "source": [
    "# Importing dataset\n",
    "\n",
    "# Load JSON data from file\n",
    "with open('data/challenge_set.json', 'r') as file: # Replace with local dataset path\n",
    "    data = json.load(file)\n",
    "\n",
    "# Initialize an empty list to collect all track data\n",
    "all_tracks = []\n",
    "\n",
    "# Loop through each playlist in the dataset\n",
    "for playlist in data['playlists']:\n",
    "    for track in playlist['tracks']:\n",
    "        # Add playlist-level information to each track record\n",
    "        track_info = {\n",
    "            'playlist_name': playlist.get('name', 'Unknown'),\n",
    "            'playlist_pid': playlist['pid'],\n",
    "            'playlist_num_tracks': playlist['num_tracks'],\n",
    "            'track_pos': track['pos'],\n",
    "            'artist_name': track['artist_name'],\n",
    "            'track_uri': track['track_uri'],\n",
    "            'artist_uri': track['artist_uri'],\n",
    "            'track_name': track['track_name'],\n",
    "            'album_uri': track['album_uri'],\n",
    "            'duration_ms': track['duration_ms'],\n",
    "            'album_name': track['album_name']\n",
    "        }\n",
    "        all_tracks.append(track_info)\n",
    "\n",
    "# Convert the list of track dictionaries to a DataFrame and reassign dataframe to new variable name\n",
    "df_spotify = pd.DataFrame(all_tracks)\n",
    "spotify = df_spotify\n",
    "\n",
    "# Display the first few rows of the DataFrame to verify\n",
    "print(df_spotify.shape)"
   ]
  },
  {
   "cell_type": "code",
   "execution_count": 4,
   "metadata": {},
   "outputs": [],
   "source": [
    "# Counting occurrences of each song and getting the top 500\n",
    "top_500_songs = spotify['track_uri'].value_counts().head(500).index.tolist()\n",
    "\n",
    "# Save the top 500 songs to a CSV file for future use\n",
    "pd.DataFrame(top_500_songs, columns=['track_uri']).to_csv('top_500_songs.csv', index=False)"
   ]
  },
  {
   "cell_type": "markdown",
   "metadata": {},
   "source": [
    "#### Recommending top 500 songs to each user playlist"
   ]
  },
  {
   "cell_type": "code",
   "execution_count": 7,
   "metadata": {},
   "outputs": [],
   "source": [
    "# Group the dataset by 'playlist_name'\n",
    "playlists = spotify.groupby('playlist_pid')['track_uri'].apply(list).to_dict()\n",
    "\n",
    "# Function to recommend songs without duplicates\n",
    "def recommend_songs(playlist_songs, recommendations):\n",
    "    return [song for song in recommendations if song not in playlist_songs]\n",
    "\n",
    "# Create recommendations for each playlist\n",
    "recommendations = {\n",
    "    playlist: recommend_songs(songs, top_500_songs) for playlist, songs in playlists.items()\n",
    "}\n",
    "\n",
    "# Convert recommendations to a DataFrame for visualization or saving\n",
    "recommendations_df = pd.DataFrame([(playlist, song) for playlist, songs in recommendations.items() for song in songs],\n",
    "                                 columns=['playlist_pid', 'recommended_song'])\n",
    "\n",
    "# Save the recommendations to a CSV file\n",
    "recommendations_df.to_csv('playlist_recommendations.csv', index=False)"
   ]
  }
 ],
 "metadata": {
  "kernelspec": {
   "display_name": ".venv",
   "language": "python",
   "name": "python3"
  },
  "language_info": {
   "codemirror_mode": {
    "name": "ipython",
    "version": 3
   },
   "file_extension": ".py",
   "mimetype": "text/x-python",
   "name": "python",
   "nbconvert_exporter": "python",
   "pygments_lexer": "ipython3",
   "version": "3.11.3"
  }
 },
 "nbformat": 4,
 "nbformat_minor": 2
}
